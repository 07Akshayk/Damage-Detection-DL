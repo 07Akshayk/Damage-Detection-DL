{
 "cells": [
  {
   "cell_type": "code",
   "execution_count": 1,
   "id": "7b670924",
   "metadata": {},
   "outputs": [],
   "source": [
    "from tensorflow.keras.preprocessing.image import ImageDataGenerator,array_to_img,img_to_array,load_img"
   ]
  },
  {
   "cell_type": "code",
   "execution_count": 31,
   "id": "7f9c928a",
   "metadata": {},
   "outputs": [],
   "source": [
    "datagen=ImageDataGenerator(\n",
    "                           height_shift_range=0.15,#ranges used (.1,.4) \n",
    "                            width_shift_range=0.3,#ranges used (.1,.4)\n",
    "                            rotation_range=30,\n",
    "                            shear_range=.7,#ranges used (.4,.8)\n",
    "                            horizontal_flip=True,\n",
    "                            vertical_flip=True,\n",
    "                            fill_mode='nearest'\n",
    "                            )"
   ]
  },
  {
   "cell_type": "code",
   "execution_count": 37,
   "id": "8d8aac1c",
   "metadata": {},
   "outputs": [],
   "source": [
    "#Generating images\n",
    "img=load_img('bolt151.jpg')\n",
    "x=img_to_array(img)\n",
    "x=x.reshape((1,)+x.shape)\n",
    "\n",
    "i=0\n",
    "for batch in datagen.flow(x,batch_size=1,\n",
    "                         save_to_dir='preview',save_prefix='bolt2',save_format='jpg'):\n",
    "    i+=1\n",
    "    if i>20:\n",
    "        break"
   ]
  }
 ],
 "metadata": {
  "kernelspec": {
   "display_name": "Python 3 (ipykernel)",
   "language": "python",
   "name": "python3"
  },
  "language_info": {
   "codemirror_mode": {
    "name": "ipython",
    "version": 3
   },
   "file_extension": ".py",
   "mimetype": "text/x-python",
   "name": "python",
   "nbconvert_exporter": "python",
   "pygments_lexer": "ipython3",
   "version": "3.9.13"
  }
 },
 "nbformat": 4,
 "nbformat_minor": 5
}

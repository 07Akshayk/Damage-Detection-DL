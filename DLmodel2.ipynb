{
 "cells": [
  {
   "cell_type": "code",
   "execution_count": 2,
   "metadata": {
    "executionInfo": {
     "elapsed": 4124,
     "status": "ok",
     "timestamp": 1682425528729,
     "user": {
      "displayName": "Amal Thomas",
      "userId": "00814438271036740608"
     },
     "user_tz": -330
    },
    "id": "bsOAR1wh7rbW"
   },
   "outputs": [],
   "source": [
    "#Importing required libraries\n",
    "\n",
    "from tensorflow.keras.models import Model\n",
    "from tensorflow.keras.layers import Input, Conv2D, MaxPooling2D, Flatten, Dense, concatenate, Activation, BatchNormalization, Add,GlobalMaxPooling2D,Dropout\n",
    "from tensorflow.keras.optimizers import Adam\n",
    "from tensorflow.keras import backend as K\n",
    "from keras.preprocessing.image import ImageDataGenerator\n",
    "from tensorflow.keras import layers, models\n",
    "import tensorflow as tf\n",
    "from keras.regularizers import L1\n",
    "from tensorflow.keras.callbacks import EarlyStopping\n",
    "from tensorflow.keras.applications.mobilenet_v2 import preprocess_input"
   ]
  },
  {
   "cell_type": "code",
   "execution_count": 3,
   "metadata": {
    "colab": {
     "base_uri": "https://localhost:8080/"
    },
    "executionInfo": {
     "elapsed": 6540,
     "status": "ok",
     "timestamp": 1682425538679,
     "user": {
      "displayName": "Amal Thomas",
      "userId": "00814438271036740608"
     },
     "user_tz": -330
    },
    "id": "c-7-gJ3v8Hoc",
    "outputId": "555c7857-caed-4eac-f5cd-f8e9e6bf834e"
   },
   "outputs": [
    {
     "name": "stdout",
     "output_type": "stream",
     "text": [
      "Found 1710 images belonging to 2 classes.\n",
      "Found 190 images belonging to 2 classes.\n"
     ]
    }
   ],
   "source": [
    "image=ImageDataGenerator(preprocessing_function=preprocess_input,rescale = 1.0/255.0,validation_split=.1)\n",
    "train=image.flow_from_directory(\"/content/drive/MyDrive/CNNmod1/Dataset\",target_size=(224,224),class_mode='sparse',batch_size=10,subset='training',shuffle=True,seed=123)\n",
    "testing=image.flow_from_directory(\"/content/drive/MyDrive/CNNmod1/Dataset\",target_size=(224,224),class_mode='sparse',batch_size=1,subset='validation')"
   ]
  },
  {
   "cell_type": "code",
   "execution_count": null,
   "metadata": {
    "colab": {
     "base_uri": "https://localhost:8080/"
    },
    "executionInfo": {
     "elapsed": 570,
     "status": "ok",
     "timestamp": 1682238792866,
     "user": {
      "displayName": "Amal Thomas",
      "userId": "00814438271036740608"
     },
     "user_tz": -330
    },
    "id": "RdIXcKy6Lvq2",
    "outputId": "6e8e82d6-01b6-44be-d630-4350b2e58796"
   },
   "outputs": [
    {
     "data": {
      "text/plain": [
       "{'def_front': 0, 'ok_front': 1}"
      ]
     },
     "execution_count": 45,
     "metadata": {},
     "output_type": "execute_result"
    }
   ],
   "source": [
    "train.class_indices"
   ]
  },
  {
   "cell_type": "code",
   "execution_count": 4,
   "metadata": {
    "executionInfo": {
     "elapsed": 3916,
     "status": "ok",
     "timestamp": 1682425552194,
     "user": {
      "displayName": "Amal Thomas",
      "userId": "00814438271036740608"
     },
     "user_tz": -330
    },
    "id": "oBc1-Qv7DvLR"
   },
   "outputs": [],
   "source": [
    "loss = tf.keras.losses.SparseCategoricalCrossentropy()\n",
    "\n",
    "# Set up validation\n",
    "val_loss = tf.keras.metrics.SparseCategoricalCrossentropy(name='val_loss')\n",
    "val_accuracy = tf.keras.metrics.SparseCategoricalAccuracy(name='val_accuracy')\n"
   ]
  },
  {
   "cell_type": "code",
   "execution_count": 5,
   "metadata": {
    "executionInfo": {
     "elapsed": 31,
     "status": "ok",
     "timestamp": 1682425552197,
     "user": {
      "displayName": "Amal Thomas",
      "userId": "00814438271036740608"
     },
     "user_tz": -330
    },
    "id": "BnhR2aSW8UKE"
   },
   "outputs": [],
   "source": [
    "#Using relu6 activation function \n",
    "import numpy as np\n",
    "\n",
    "def relu6(x):\n",
    "    return np.clip(x, 0, 6)\n"
   ]
  },
  {
   "cell_type": "code",
   "execution_count": 7,
   "metadata": {
    "executionInfo": {
     "elapsed": 31,
     "status": "ok",
     "timestamp": 1682425611454,
     "user": {
      "displayName": "Amal Thomas",
      "userId": "00814438271036740608"
     },
     "user_tz": -330
    },
    "id": "N0JTwRKo8XYL"
   },
   "outputs": [],
   "source": [
    "#Function for the inverted residual block\n",
    "def inverted_residual_block(inputs, filters, expansion_factor, stride):\n",
    "    channel_axis = 1 if K.image_data_format() == 'channels_first' else -1\n",
    "   \n",
    "    input_num_filters =  K.int_shape(inputs)[channel_axis]\n",
    "    inner_num_filters = input_num_filters * expansion_factor\n",
    "\n",
    "    # Apply pointwise convolution with expansion\n",
    "    x = layers.Conv2D(inner_num_filters, (1, 1), padding='same',kernel_regularizer=L1(0.005), use_bias=False)(inputs)\n",
    "    x = layers.BatchNormalization()(x)\n",
    "    x = layers.Activation('relu6')(x)\n",
    "\n",
    "    # Apply depthwise convolution\n",
    "    x = layers.DepthwiseConv2D(kernel_size=3, strides=stride, padding='same',kernel_regularizer=L1(0.005), use_bias=False)(x)    \n",
    "    x = layers.BatchNormalization()(x)\n",
    "    x = layers.Activation('relu6')(x)\n",
    "\n",
    "    # Apply pointwise convolution to project back to the original number of filters(compressing)\n",
    "    x = layers.Conv2D(filters, (1, 1), padding='same',kernel_regularizer=L1(0.005), use_bias=False)(x)\n",
    "    x = layers.BatchNormalization()(x)\n",
    "\n",
    "    # Apply skip connection for same spatial dimension of tensors(identity skip connction)\n",
    "    if (stride == 1) and (input_num_filters == filters):\n",
    "        x = layers.Add()([x, inputs])\n",
    "        return x\n",
    "    \n",
    "    # Apply skip connection using a 1x1 convolution\n",
    "    # Apply skip connection if the number of filters or resolution changes(convolutional skip connection)\n",
    "    shortcut = Conv2D(filters, kernel_size=1, strides=stride, padding='same')(inputs)\n",
    "    shortcut = BatchNormalization()(shortcut)\n",
    "\n",
    "    return Add()([x, shortcut])"
   ]
  },
  {
   "cell_type": "code",
   "execution_count": 8,
   "metadata": {
    "executionInfo": {
     "elapsed": 757,
     "status": "ok",
     "timestamp": 1682425650918,
     "user": {
      "displayName": "Amal Thomas",
      "userId": "00814438271036740608"
     },
     "user_tz": -330
    },
    "id": "yVzFOJ0y9IL2"
   },
   "outputs": [],
   "source": [
    "#Base model building\n",
    "def build_cnn_model(input_shape, num_classes):\n",
    "    inputs = Input(shape=input_shape)\n",
    "\n",
    "    # Entry block\n",
    "    x = Conv2D(32, kernel_size=7, strides=2, padding='same')(inputs)\n",
    "    x = BatchNormalization()(x)\n",
    "    x = Activation('relu6')(x)\n",
    "   \n",
    "    x = inverted_residual_block(x, filters=32, expansion_factor=6, stride=2)\n",
    "\n",
    "    x = inverted_residual_block(x, filters=64, expansion_factor=6, stride=2)\n",
    "    x = inverted_residual_block(x, filters=64, expansion_factor=6, stride=1)\n",
    "\n",
    "    x = inverted_residual_block(x, filters=128, expansion_factor=6, stride=2)\n",
    "    x = inverted_residual_block(x, filters=128, expansion_factor=6, stride=1)\n",
    "    x = Dropout(0.1)(x)\n",
    "\n",
    "    x = inverted_residual_block(x, filters=256, expansion_factor=6, stride=2)\n",
    "\n",
    "    # Exit block\n",
    "    \n",
    "    x = Conv2D(256, kernel_size=3,padding='same')(x)\n",
    "    x = BatchNormalization()(x)\n",
    "    x = Activation('relu6')(x)\n",
    "    x = GlobalMaxPooling2D()(x)\n",
    "    x = Dropout(0.1)(x)\n",
    "    x = Dense(num_classes, activation='softmax')(x)\n",
    "\n",
    "    model = Model(inputs, x)\n",
    "\n",
    "    return model"
   ]
  },
  {
   "cell_type": "code",
   "execution_count": 9,
   "metadata": {
    "executionInfo": {
     "elapsed": 642,
     "status": "ok",
     "timestamp": 1682425655864,
     "user": {
      "displayName": "Amal Thomas",
      "userId": "00814438271036740608"
     },
     "user_tz": -330
    },
    "id": "7-t3abPu8YBy"
   },
   "outputs": [],
   "source": [
    "model1=build_cnn_model((224,224,3),2)"
   ]
  },
  {
   "cell_type": "code",
   "execution_count": 10,
   "metadata": {
    "executionInfo": {
     "elapsed": 987,
     "status": "ok",
     "timestamp": 1682425657402,
     "user": {
      "displayName": "Amal Thomas",
      "userId": "00814438271036740608"
     },
     "user_tz": -330
    },
    "id": "t1v8wvoMEOKk"
   },
   "outputs": [],
   "source": [
    "early_stop = EarlyStopping(monitor='val_loss', patience=5)"
   ]
  },
  {
   "cell_type": "code",
   "execution_count": 11,
   "metadata": {
    "executionInfo": {
     "elapsed": 6,
     "status": "ok",
     "timestamp": 1682425660097,
     "user": {
      "displayName": "Amal Thomas",
      "userId": "00814438271036740608"
     },
     "user_tz": -330
    },
    "id": "K4vpx94U9vGt"
   },
   "outputs": [],
   "source": [
    "optimizer = Adam(learning_rate=0.0001)\n",
    "model1.compile(optimizer=optimizer, loss='sparse_categorical_crossentropy', metrics=['accuracy', val_loss, val_accuracy])\n"
   ]
  },
  {
   "cell_type": "code",
   "execution_count": null,
   "metadata": {
    "colab": {
     "base_uri": "https://localhost:8080/"
    },
    "executionInfo": {
     "elapsed": 2232,
     "status": "ok",
     "timestamp": 1682340716040,
     "user": {
      "displayName": "Amal Thomas",
      "userId": "00814438271036740608"
     },
     "user_tz": -330
    },
    "id": "yidfKRx090CX",
    "outputId": "4b85c014-c648-4621-8bb8-28701cc3d622"
   },
   "outputs": [
    {
     "name": "stdout",
     "output_type": "stream",
     "text": [
      "Model: \"model_2\"\n",
      "__________________________________________________________________________________________________\n",
      " Layer (type)                   Output Shape         Param #     Connected to                     \n",
      "==================================================================================================\n",
      " input_3 (InputLayer)           [(None, 224, 224, 3  0           []                               \n",
      "                                )]                                                                \n",
      "                                                                                                  \n",
      " conv2d_40 (Conv2D)             (None, 112, 112, 16  2368        ['input_3[0][0]']                \n",
      "                                )                                                                 \n",
      "                                                                                                  \n",
      " batch_normalization_53 (BatchN  (None, 112, 112, 16  64         ['conv2d_40[0][0]']              \n",
      " ormalization)                  )                                                                 \n",
      "                                                                                                  \n",
      " activation_30 (Activation)     (None, 112, 112, 16  0           ['batch_normalization_53[0][0]'] \n",
      "                                )                                                                 \n",
      "                                                                                                  \n",
      " conv2d_41 (Conv2D)             (None, 112, 112, 16  256         ['activation_30[0][0]']          \n",
      "                                )                                                                 \n",
      "                                                                                                  \n",
      " batch_normalization_54 (BatchN  (None, 112, 112, 16  64         ['conv2d_41[0][0]']              \n",
      " ormalization)                  )                                                                 \n",
      "                                                                                                  \n",
      " activation_31 (Activation)     (None, 112, 112, 16  0           ['batch_normalization_54[0][0]'] \n",
      "                                )                                                                 \n",
      "                                                                                                  \n",
      " depthwise_conv2d_13 (Depthwise  (None, 112, 112, 16  144        ['activation_31[0][0]']          \n",
      " Conv2D)                        )                                                                 \n",
      "                                                                                                  \n",
      " batch_normalization_55 (BatchN  (None, 112, 112, 16  64         ['depthwise_conv2d_13[0][0]']    \n",
      " ormalization)                  )                                                                 \n",
      "                                                                                                  \n",
      " activation_32 (Activation)     (None, 112, 112, 16  0           ['batch_normalization_55[0][0]'] \n",
      "                                )                                                                 \n",
      "                                                                                                  \n",
      " conv2d_42 (Conv2D)             (None, 112, 112, 16  256         ['activation_32[0][0]']          \n",
      "                                )                                                                 \n",
      "                                                                                                  \n",
      " conv2d_43 (Conv2D)             (None, 112, 112, 16  272         ['activation_30[0][0]']          \n",
      "                                )                                                                 \n",
      "                                                                                                  \n",
      " batch_normalization_56 (BatchN  (None, 112, 112, 16  64         ['conv2d_42[0][0]']              \n",
      " ormalization)                  )                                                                 \n",
      "                                                                                                  \n",
      " batch_normalization_57 (BatchN  (None, 112, 112, 16  64         ['conv2d_43[0][0]']              \n",
      " ormalization)                  )                                                                 \n",
      "                                                                                                  \n",
      " add_13 (Add)                   (None, 112, 112, 16  0           ['batch_normalization_56[0][0]', \n",
      "                                )                                 'batch_normalization_57[0][0]'] \n",
      "                                                                                                  \n",
      " conv2d_44 (Conv2D)             (None, 112, 112, 96  1536        ['add_13[0][0]']                 \n",
      "                                )                                                                 \n",
      "                                                                                                  \n",
      " batch_normalization_58 (BatchN  (None, 112, 112, 96  384        ['conv2d_44[0][0]']              \n",
      " ormalization)                  )                                                                 \n",
      "                                                                                                  \n",
      " activation_33 (Activation)     (None, 112, 112, 96  0           ['batch_normalization_58[0][0]'] \n",
      "                                )                                                                 \n",
      "                                                                                                  \n",
      " depthwise_conv2d_14 (Depthwise  (None, 56, 56, 96)  864         ['activation_33[0][0]']          \n",
      " Conv2D)                                                                                          \n",
      "                                                                                                  \n",
      " batch_normalization_59 (BatchN  (None, 56, 56, 96)  384         ['depthwise_conv2d_14[0][0]']    \n",
      " ormalization)                                                                                    \n",
      "                                                                                                  \n",
      " activation_34 (Activation)     (None, 56, 56, 96)   0           ['batch_normalization_59[0][0]'] \n",
      "                                                                                                  \n",
      " conv2d_45 (Conv2D)             (None, 56, 56, 24)   2304        ['activation_34[0][0]']          \n",
      "                                                                                                  \n",
      " conv2d_46 (Conv2D)             (None, 56, 56, 24)   408         ['add_13[0][0]']                 \n",
      "                                                                                                  \n",
      " batch_normalization_60 (BatchN  (None, 56, 56, 24)  96          ['conv2d_45[0][0]']              \n",
      " ormalization)                                                                                    \n",
      "                                                                                                  \n",
      " batch_normalization_61 (BatchN  (None, 56, 56, 24)  96          ['conv2d_46[0][0]']              \n",
      " ormalization)                                                                                    \n",
      "                                                                                                  \n",
      " add_14 (Add)                   (None, 56, 56, 24)   0           ['batch_normalization_60[0][0]', \n",
      "                                                                  'batch_normalization_61[0][0]'] \n",
      "                                                                                                  \n",
      " conv2d_47 (Conv2D)             (None, 56, 56, 144)  3456        ['add_14[0][0]']                 \n",
      "                                                                                                  \n",
      " batch_normalization_62 (BatchN  (None, 56, 56, 144)  576        ['conv2d_47[0][0]']              \n",
      " ormalization)                                                                                    \n",
      "                                                                                                  \n",
      " activation_35 (Activation)     (None, 56, 56, 144)  0           ['batch_normalization_62[0][0]'] \n",
      "                                                                                                  \n",
      " depthwise_conv2d_15 (Depthwise  (None, 56, 56, 144)  1296       ['activation_35[0][0]']          \n",
      " Conv2D)                                                                                          \n",
      "                                                                                                  \n",
      " batch_normalization_63 (BatchN  (None, 56, 56, 144)  576        ['depthwise_conv2d_15[0][0]']    \n",
      " ormalization)                                                                                    \n",
      "                                                                                                  \n",
      " activation_36 (Activation)     (None, 56, 56, 144)  0           ['batch_normalization_63[0][0]'] \n",
      "                                                                                                  \n",
      " conv2d_48 (Conv2D)             (None, 56, 56, 24)   3456        ['activation_36[0][0]']          \n",
      "                                                                                                  \n",
      " conv2d_49 (Conv2D)             (None, 56, 56, 24)   600         ['add_14[0][0]']                 \n",
      "                                                                                                  \n",
      " batch_normalization_64 (BatchN  (None, 56, 56, 24)  96          ['conv2d_48[0][0]']              \n",
      " ormalization)                                                                                    \n",
      "                                                                                                  \n",
      " batch_normalization_65 (BatchN  (None, 56, 56, 24)  96          ['conv2d_49[0][0]']              \n",
      " ormalization)                                                                                    \n",
      "                                                                                                  \n",
      " add_15 (Add)                   (None, 56, 56, 24)   0           ['batch_normalization_64[0][0]', \n",
      "                                                                  'batch_normalization_65[0][0]'] \n",
      "                                                                                                  \n",
      " conv2d_50 (Conv2D)             (None, 56, 56, 144)  3456        ['add_15[0][0]']                 \n",
      "                                                                                                  \n",
      " batch_normalization_66 (BatchN  (None, 56, 56, 144)  576        ['conv2d_50[0][0]']              \n",
      " ormalization)                                                                                    \n",
      "                                                                                                  \n",
      " activation_37 (Activation)     (None, 56, 56, 144)  0           ['batch_normalization_66[0][0]'] \n",
      "                                                                                                  \n",
      " depthwise_conv2d_16 (Depthwise  (None, 28, 28, 144)  1296       ['activation_37[0][0]']          \n",
      " Conv2D)                                                                                          \n",
      "                                                                                                  \n",
      " batch_normalization_67 (BatchN  (None, 28, 28, 144)  576        ['depthwise_conv2d_16[0][0]']    \n",
      " ormalization)                                                                                    \n",
      "                                                                                                  \n",
      " activation_38 (Activation)     (None, 28, 28, 144)  0           ['batch_normalization_67[0][0]'] \n",
      "                                                                                                  \n",
      " conv2d_51 (Conv2D)             (None, 28, 28, 32)   4608        ['activation_38[0][0]']          \n",
      "                                                                                                  \n",
      " conv2d_52 (Conv2D)             (None, 28, 28, 32)   800         ['add_15[0][0]']                 \n",
      "                                                                                                  \n",
      " batch_normalization_68 (BatchN  (None, 28, 28, 32)  128         ['conv2d_51[0][0]']              \n",
      " ormalization)                                                                                    \n",
      "                                                                                                  \n",
      " batch_normalization_69 (BatchN  (None, 28, 28, 32)  128         ['conv2d_52[0][0]']              \n",
      " ormalization)                                                                                    \n",
      "                                                                                                  \n",
      " add_16 (Add)                   (None, 28, 28, 32)   0           ['batch_normalization_68[0][0]', \n",
      "                                                                  'batch_normalization_69[0][0]'] \n",
      "                                                                                                  \n",
      " conv2d_53 (Conv2D)             (None, 28, 28, 192)  6144        ['add_16[0][0]']                 \n",
      "                                                                                                  \n",
      " batch_normalization_70 (BatchN  (None, 28, 28, 192)  768        ['conv2d_53[0][0]']              \n",
      " ormalization)                                                                                    \n",
      "                                                                                                  \n",
      " activation_39 (Activation)     (None, 28, 28, 192)  0           ['batch_normalization_70[0][0]'] \n",
      "                                                                                                  \n",
      " depthwise_conv2d_17 (Depthwise  (None, 28, 28, 192)  1728       ['activation_39[0][0]']          \n",
      " Conv2D)                                                                                          \n",
      "                                                                                                  \n",
      " batch_normalization_71 (BatchN  (None, 28, 28, 192)  768        ['depthwise_conv2d_17[0][0]']    \n",
      " ormalization)                                                                                    \n",
      "                                                                                                  \n",
      " activation_40 (Activation)     (None, 28, 28, 192)  0           ['batch_normalization_71[0][0]'] \n",
      "                                                                                                  \n",
      " conv2d_54 (Conv2D)             (None, 28, 28, 32)   6144        ['activation_40[0][0]']          \n",
      "                                                                                                  \n",
      " conv2d_55 (Conv2D)             (None, 28, 28, 32)   1056        ['add_16[0][0]']                 \n",
      "                                                                                                  \n",
      " batch_normalization_72 (BatchN  (None, 28, 28, 32)  128         ['conv2d_54[0][0]']              \n",
      " ormalization)                                                                                    \n",
      "                                                                                                  \n",
      " batch_normalization_73 (BatchN  (None, 28, 28, 32)  128         ['conv2d_55[0][0]']              \n",
      " ormalization)                                                                                    \n",
      "                                                                                                  \n",
      " add_17 (Add)                   (None, 28, 28, 32)   0           ['batch_normalization_72[0][0]', \n",
      "                                                                  'batch_normalization_73[0][0]'] \n",
      "                                                                                                  \n",
      " dropout_6 (Dropout)            (None, 28, 28, 32)   0           ['add_17[0][0]']                 \n",
      "                                                                                                  \n",
      " conv2d_56 (Conv2D)             (None, 28, 28, 192)  6144        ['dropout_6[0][0]']              \n",
      "                                                                                                  \n",
      " batch_normalization_74 (BatchN  (None, 28, 28, 192)  768        ['conv2d_56[0][0]']              \n",
      " ormalization)                                                                                    \n",
      "                                                                                                  \n",
      " activation_41 (Activation)     (None, 28, 28, 192)  0           ['batch_normalization_74[0][0]'] \n",
      "                                                                                                  \n",
      " depthwise_conv2d_18 (Depthwise  (None, 14, 14, 192)  1728       ['activation_41[0][0]']          \n",
      " Conv2D)                                                                                          \n",
      "                                                                                                  \n",
      " batch_normalization_75 (BatchN  (None, 14, 14, 192)  768        ['depthwise_conv2d_18[0][0]']    \n",
      " ormalization)                                                                                    \n",
      "                                                                                                  \n",
      " activation_42 (Activation)     (None, 14, 14, 192)  0           ['batch_normalization_75[0][0]'] \n",
      "                                                                                                  \n",
      " conv2d_57 (Conv2D)             (None, 14, 14, 64)   12288       ['activation_42[0][0]']          \n",
      "                                                                                                  \n",
      " conv2d_58 (Conv2D)             (None, 14, 14, 64)   2112        ['dropout_6[0][0]']              \n",
      "                                                                                                  \n",
      " batch_normalization_76 (BatchN  (None, 14, 14, 64)  256         ['conv2d_57[0][0]']              \n",
      " ormalization)                                                                                    \n",
      "                                                                                                  \n",
      " batch_normalization_77 (BatchN  (None, 14, 14, 64)  256         ['conv2d_58[0][0]']              \n",
      " ormalization)                                                                                    \n",
      "                                                                                                  \n",
      " add_18 (Add)                   (None, 14, 14, 64)   0           ['batch_normalization_76[0][0]', \n",
      "                                                                  'batch_normalization_77[0][0]'] \n",
      "                                                                                                  \n",
      " conv2d_59 (Conv2D)             (None, 14, 14, 384)  24576       ['add_18[0][0]']                 \n",
      "                                                                                                  \n",
      " batch_normalization_78 (BatchN  (None, 14, 14, 384)  1536       ['conv2d_59[0][0]']              \n",
      " ormalization)                                                                                    \n",
      "                                                                                                  \n",
      " activation_43 (Activation)     (None, 14, 14, 384)  0           ['batch_normalization_78[0][0]'] \n",
      "                                                                                                  \n",
      " depthwise_conv2d_19 (Depthwise  (None, 14, 14, 384)  3456       ['activation_43[0][0]']          \n",
      " Conv2D)                                                                                          \n",
      "                                                                                                  \n",
      " batch_normalization_79 (BatchN  (None, 14, 14, 384)  1536       ['depthwise_conv2d_19[0][0]']    \n",
      " ormalization)                                                                                    \n",
      "                                                                                                  \n",
      " activation_44 (Activation)     (None, 14, 14, 384)  0           ['batch_normalization_79[0][0]'] \n",
      "                                                                                                  \n",
      " conv2d_60 (Conv2D)             (None, 14, 14, 64)   24576       ['activation_44[0][0]']          \n",
      "                                                                                                  \n",
      " conv2d_61 (Conv2D)             (None, 14, 14, 64)   4160        ['add_18[0][0]']                 \n",
      "                                                                                                  \n",
      " batch_normalization_80 (BatchN  (None, 14, 14, 64)  256         ['conv2d_60[0][0]']              \n",
      " ormalization)                                                                                    \n",
      "                                                                                                  \n",
      " batch_normalization_81 (BatchN  (None, 14, 14, 64)  256         ['conv2d_61[0][0]']              \n",
      " ormalization)                                                                                    \n",
      "                                                                                                  \n",
      " add_19 (Add)                   (None, 14, 14, 64)   0           ['batch_normalization_80[0][0]', \n",
      "                                                                  'batch_normalization_81[0][0]'] \n",
      "                                                                                                  \n",
      " dropout_7 (Dropout)            (None, 14, 14, 64)   0           ['add_19[0][0]']                 \n",
      "                                                                                                  \n",
      " conv2d_62 (Conv2D)             (None, 14, 14, 384)  24576       ['dropout_7[0][0]']              \n",
      "                                                                                                  \n",
      " batch_normalization_82 (BatchN  (None, 14, 14, 384)  1536       ['conv2d_62[0][0]']              \n",
      " ormalization)                                                                                    \n",
      "                                                                                                  \n",
      " activation_45 (Activation)     (None, 14, 14, 384)  0           ['batch_normalization_82[0][0]'] \n",
      "                                                                                                  \n",
      " depthwise_conv2d_20 (Depthwise  (None, 14, 14, 384)  3456       ['activation_45[0][0]']          \n",
      " Conv2D)                                                                                          \n",
      "                                                                                                  \n",
      " batch_normalization_83 (BatchN  (None, 14, 14, 384)  1536       ['depthwise_conv2d_20[0][0]']    \n",
      " ormalization)                                                                                    \n",
      "                                                                                                  \n",
      " activation_46 (Activation)     (None, 14, 14, 384)  0           ['batch_normalization_83[0][0]'] \n",
      "                                                                                                  \n",
      " conv2d_63 (Conv2D)             (None, 14, 14, 96)   36864       ['activation_46[0][0]']          \n",
      "                                                                                                  \n",
      " conv2d_64 (Conv2D)             (None, 14, 14, 96)   6240        ['dropout_7[0][0]']              \n",
      "                                                                                                  \n",
      " batch_normalization_84 (BatchN  (None, 14, 14, 96)  384         ['conv2d_63[0][0]']              \n",
      " ormalization)                                                                                    \n",
      "                                                                                                  \n",
      " batch_normalization_85 (BatchN  (None, 14, 14, 96)  384         ['conv2d_64[0][0]']              \n",
      " ormalization)                                                                                    \n",
      "                                                                                                  \n",
      " add_20 (Add)                   (None, 14, 14, 96)   0           ['batch_normalization_84[0][0]', \n",
      "                                                                  'batch_normalization_85[0][0]'] \n",
      "                                                                                                  \n",
      " conv2d_65 (Conv2D)             (None, 14, 14, 576)  55296       ['add_20[0][0]']                 \n",
      "                                                                                                  \n",
      " batch_normalization_86 (BatchN  (None, 14, 14, 576)  2304       ['conv2d_65[0][0]']              \n",
      " ormalization)                                                                                    \n",
      "                                                                                                  \n",
      " activation_47 (Activation)     (None, 14, 14, 576)  0           ['batch_normalization_86[0][0]'] \n",
      "                                                                                                  \n",
      " depthwise_conv2d_21 (Depthwise  (None, 14, 14, 576)  5184       ['activation_47[0][0]']          \n",
      " Conv2D)                                                                                          \n",
      "                                                                                                  \n",
      " batch_normalization_87 (BatchN  (None, 14, 14, 576)  2304       ['depthwise_conv2d_21[0][0]']    \n",
      " ormalization)                                                                                    \n",
      "                                                                                                  \n",
      " activation_48 (Activation)     (None, 14, 14, 576)  0           ['batch_normalization_87[0][0]'] \n",
      "                                                                                                  \n",
      " conv2d_66 (Conv2D)             (None, 14, 14, 96)   55296       ['activation_48[0][0]']          \n",
      "                                                                                                  \n",
      " conv2d_67 (Conv2D)             (None, 14, 14, 96)   9312        ['add_20[0][0]']                 \n",
      "                                                                                                  \n",
      " batch_normalization_88 (BatchN  (None, 14, 14, 96)  384         ['conv2d_66[0][0]']              \n",
      " ormalization)                                                                                    \n",
      "                                                                                                  \n",
      " batch_normalization_89 (BatchN  (None, 14, 14, 96)  384         ['conv2d_67[0][0]']              \n",
      " ormalization)                                                                                    \n",
      "                                                                                                  \n",
      " add_21 (Add)                   (None, 14, 14, 96)   0           ['batch_normalization_88[0][0]', \n",
      "                                                                  'batch_normalization_89[0][0]'] \n",
      "                                                                                                  \n",
      " conv2d_68 (Conv2D)             (None, 14, 14, 576)  55296       ['add_21[0][0]']                 \n",
      "                                                                                                  \n",
      " batch_normalization_90 (BatchN  (None, 14, 14, 576)  2304       ['conv2d_68[0][0]']              \n",
      " ormalization)                                                                                    \n",
      "                                                                                                  \n",
      " activation_49 (Activation)     (None, 14, 14, 576)  0           ['batch_normalization_90[0][0]'] \n",
      "                                                                                                  \n",
      " depthwise_conv2d_22 (Depthwise  (None, 14, 14, 576)  5184       ['activation_49[0][0]']          \n",
      " Conv2D)                                                                                          \n",
      "                                                                                                  \n",
      " batch_normalization_91 (BatchN  (None, 14, 14, 576)  2304       ['depthwise_conv2d_22[0][0]']    \n",
      " ormalization)                                                                                    \n",
      "                                                                                                  \n",
      " activation_50 (Activation)     (None, 14, 14, 576)  0           ['batch_normalization_91[0][0]'] \n",
      "                                                                                                  \n",
      " conv2d_69 (Conv2D)             (None, 14, 14, 96)   55296       ['activation_50[0][0]']          \n",
      "                                                                                                  \n",
      " conv2d_70 (Conv2D)             (None, 14, 14, 96)   9312        ['add_21[0][0]']                 \n",
      "                                                                                                  \n",
      " batch_normalization_92 (BatchN  (None, 14, 14, 96)  384         ['conv2d_69[0][0]']              \n",
      " ormalization)                                                                                    \n",
      "                                                                                                  \n",
      " batch_normalization_93 (BatchN  (None, 14, 14, 96)  384         ['conv2d_70[0][0]']              \n",
      " ormalization)                                                                                    \n",
      "                                                                                                  \n",
      " add_22 (Add)                   (None, 14, 14, 96)   0           ['batch_normalization_92[0][0]', \n",
      "                                                                  'batch_normalization_93[0][0]'] \n",
      "                                                                                                  \n",
      " dropout_8 (Dropout)            (None, 14, 14, 96)   0           ['add_22[0][0]']                 \n",
      "                                                                                                  \n",
      " conv2d_71 (Conv2D)             (None, 14, 14, 576)  55296       ['dropout_8[0][0]']              \n",
      "                                                                                                  \n",
      " batch_normalization_94 (BatchN  (None, 14, 14, 576)  2304       ['conv2d_71[0][0]']              \n",
      " ormalization)                                                                                    \n",
      "                                                                                                  \n",
      " activation_51 (Activation)     (None, 14, 14, 576)  0           ['batch_normalization_94[0][0]'] \n",
      "                                                                                                  \n",
      " depthwise_conv2d_23 (Depthwise  (None, 7, 7, 576)   5184        ['activation_51[0][0]']          \n",
      " Conv2D)                                                                                          \n",
      "                                                                                                  \n",
      " batch_normalization_95 (BatchN  (None, 7, 7, 576)   2304        ['depthwise_conv2d_23[0][0]']    \n",
      " ormalization)                                                                                    \n",
      "                                                                                                  \n",
      " activation_52 (Activation)     (None, 7, 7, 576)    0           ['batch_normalization_95[0][0]'] \n",
      "                                                                                                  \n",
      " conv2d_72 (Conv2D)             (None, 7, 7, 160)    92160       ['activation_52[0][0]']          \n",
      "                                                                                                  \n",
      " conv2d_73 (Conv2D)             (None, 7, 7, 160)    15520       ['dropout_8[0][0]']              \n",
      "                                                                                                  \n",
      " batch_normalization_96 (BatchN  (None, 7, 7, 160)   640         ['conv2d_72[0][0]']              \n",
      " ormalization)                                                                                    \n",
      "                                                                                                  \n",
      " batch_normalization_97 (BatchN  (None, 7, 7, 160)   640         ['conv2d_73[0][0]']              \n",
      " ormalization)                                                                                    \n",
      "                                                                                                  \n",
      " add_23 (Add)                   (None, 7, 7, 160)    0           ['batch_normalization_96[0][0]', \n",
      "                                                                  'batch_normalization_97[0][0]'] \n",
      "                                                                                                  \n",
      " conv2d_74 (Conv2D)             (None, 7, 7, 960)    153600      ['add_23[0][0]']                 \n",
      "                                                                                                  \n",
      " batch_normalization_98 (BatchN  (None, 7, 7, 960)   3840        ['conv2d_74[0][0]']              \n",
      " ormalization)                                                                                    \n",
      "                                                                                                  \n",
      " activation_53 (Activation)     (None, 7, 7, 960)    0           ['batch_normalization_98[0][0]'] \n",
      "                                                                                                  \n",
      " depthwise_conv2d_24 (Depthwise  (None, 7, 7, 960)   8640        ['activation_53[0][0]']          \n",
      " Conv2D)                                                                                          \n",
      "                                                                                                  \n",
      " batch_normalization_99 (BatchN  (None, 7, 7, 960)   3840        ['depthwise_conv2d_24[0][0]']    \n",
      " ormalization)                                                                                    \n",
      "                                                                                                  \n",
      " activation_54 (Activation)     (None, 7, 7, 960)    0           ['batch_normalization_99[0][0]'] \n",
      "                                                                                                  \n",
      " conv2d_75 (Conv2D)             (None, 7, 7, 160)    153600      ['activation_54[0][0]']          \n",
      "                                                                                                  \n",
      " conv2d_76 (Conv2D)             (None, 7, 7, 160)    25760       ['add_23[0][0]']                 \n",
      "                                                                                                  \n",
      " batch_normalization_100 (Batch  (None, 7, 7, 160)   640         ['conv2d_75[0][0]']              \n",
      " Normalization)                                                                                   \n",
      "                                                                                                  \n",
      " batch_normalization_101 (Batch  (None, 7, 7, 160)   640         ['conv2d_76[0][0]']              \n",
      " Normalization)                                                                                   \n",
      "                                                                                                  \n",
      " add_24 (Add)                   (None, 7, 7, 160)    0           ['batch_normalization_100[0][0]',\n",
      "                                                                  'batch_normalization_101[0][0]']\n",
      "                                                                                                  \n",
      " dropout_9 (Dropout)            (None, 7, 7, 160)    0           ['add_24[0][0]']                 \n",
      "                                                                                                  \n",
      " conv2d_77 (Conv2D)             (None, 7, 7, 320)    461120      ['dropout_9[0][0]']              \n",
      "                                                                                                  \n",
      " batch_normalization_102 (Batch  (None, 7, 7, 320)   1280        ['conv2d_77[0][0]']              \n",
      " Normalization)                                                                                   \n",
      "                                                                                                  \n",
      " activation_55 (Activation)     (None, 7, 7, 320)    0           ['batch_normalization_102[0][0]']\n",
      "                                                                                                  \n",
      " global_max_pooling2d_2 (Global  (None, 320)         0           ['activation_55[0][0]']          \n",
      " MaxPooling2D)                                                                                    \n",
      "                                                                                                  \n",
      " dropout_10 (Dropout)           (None, 320)          0           ['global_max_pooling2d_2[0][0]'] \n",
      "                                                                                                  \n",
      " dense_2 (Dense)                (None, 2)            642         ['dropout_10[0][0]']             \n",
      "                                                                                                  \n",
      "==================================================================================================\n",
      "Total params: 1,456,498\n",
      "Trainable params: 1,435,410\n",
      "Non-trainable params: 21,088\n",
      "__________________________________________________________________________________________________\n"
     ]
    }
   ],
   "source": [
    "model1.summary()"
   ]
  },
  {
   "cell_type": "code",
   "execution_count": 12,
   "metadata": {
    "colab": {
     "base_uri": "https://localhost:8080/"
    },
    "executionInfo": {
     "elapsed": 3138202,
     "status": "ok",
     "timestamp": 1682428806843,
     "user": {
      "displayName": "Amal Thomas",
      "userId": "00814438271036740608"
     },
     "user_tz": -330
    },
    "id": "dTXdotIE-FdD",
    "outputId": "1a032191-fc44-4162-a7ef-f4703e764e63"
   },
   "outputs": [
    {
     "name": "stdout",
     "output_type": "stream",
     "text": [
      "Epoch 1/30\n",
      "171/171 [==============================] - 764s 4s/step - loss: 140.6452 - accuracy: 0.5971 - val_loss: 134.7073 - val_accuracy: 0.5000 - val_val_loss: 0.6941 - val_val_accuracy: 0.5000\n",
      "Epoch 2/30\n",
      "171/171 [==============================] - 82s 478ms/step - loss: 128.3935 - accuracy: 0.8491 - val_loss: 122.5210 - val_accuracy: 0.5000 - val_val_loss: 0.7846 - val_val_accuracy: 0.5000\n",
      "Epoch 3/30\n",
      "171/171 [==============================] - 81s 474ms/step - loss: 115.3666 - accuracy: 0.9187 - val_loss: 109.4197 - val_accuracy: 0.5000 - val_val_loss: 0.9555 - val_val_accuracy: 0.5000\n",
      "Epoch 4/30\n",
      "171/171 [==============================] - 82s 481ms/step - loss: 101.8529 - accuracy: 0.9614 - val_loss: 95.7163 - val_accuracy: 0.6526 - val_val_loss: 0.7547 - val_val_accuracy: 0.6526\n",
      "Epoch 5/30\n",
      "171/171 [==============================] - 83s 483ms/step - loss: 88.4088 - accuracy: 0.9708 - val_loss: 82.4405 - val_accuracy: 0.6474 - val_val_loss: 0.7039 - val_val_accuracy: 0.6474\n",
      "Epoch 6/30\n",
      "171/171 [==============================] - 81s 476ms/step - loss: 75.6233 - accuracy: 0.9725 - val_loss: 70.3948 - val_accuracy: 0.6105 - val_val_loss: 0.8866 - val_val_accuracy: 0.6105\n",
      "Epoch 7/30\n",
      "171/171 [==============================] - 80s 469ms/step - loss: 64.0438 - accuracy: 0.9778 - val_loss: 60.1118 - val_accuracy: 0.6105 - val_val_loss: 1.4855 - val_val_accuracy: 0.6105\n",
      "Epoch 8/30\n",
      "171/171 [==============================] - 81s 470ms/step - loss: 54.0396 - accuracy: 0.9684 - val_loss: 66.4413 - val_accuracy: 0.5000 - val_val_loss: 16.9446 - val_val_accuracy: 0.5000\n",
      "Epoch 9/30\n",
      "171/171 [==============================] - 81s 474ms/step - loss: 45.5317 - accuracy: 0.9807 - val_loss: 47.2963 - val_accuracy: 0.5053 - val_val_loss: 5.6145 - val_val_accuracy: 0.5053\n",
      "Epoch 10/30\n",
      "171/171 [==============================] - 81s 474ms/step - loss: 38.7312 - accuracy: 0.9602 - val_loss: 38.9997 - val_accuracy: 0.5158 - val_val_loss: 3.4496 - val_val_accuracy: 0.5158\n",
      "Epoch 11/30\n",
      "171/171 [==============================] - 81s 473ms/step - loss: 32.9431 - accuracy: 0.9760 - val_loss: 35.0776 - val_accuracy: 0.5000 - val_val_loss: 4.6513 - val_val_accuracy: 0.5000\n",
      "Epoch 12/30\n",
      "171/171 [==============================] - 81s 474ms/step - loss: 28.2908 - accuracy: 0.9713 - val_loss: 33.3204 - val_accuracy: 0.5158 - val_val_loss: 6.7595 - val_val_accuracy: 0.5158\n",
      "Epoch 13/30\n",
      "171/171 [==============================] - 81s 474ms/step - loss: 24.6652 - accuracy: 0.9708 - val_loss: 27.3948 - val_accuracy: 0.5000 - val_val_loss: 4.5457 - val_val_accuracy: 0.5000\n",
      "Epoch 14/30\n",
      "171/171 [==============================] - 81s 475ms/step - loss: 21.4617 - accuracy: 0.9743 - val_loss: 21.8673 - val_accuracy: 0.7421 - val_val_loss: 1.8977 - val_val_accuracy: 0.7421\n",
      "Epoch 15/30\n",
      "171/171 [==============================] - 81s 473ms/step - loss: 18.9313 - accuracy: 0.9737 - val_loss: 22.8654 - val_accuracy: 0.5526 - val_val_loss: 5.0290 - val_val_accuracy: 0.5526\n",
      "Epoch 16/30\n",
      "171/171 [==============================] - 82s 480ms/step - loss: 16.6127 - accuracy: 0.9865 - val_loss: 26.1400 - val_accuracy: 0.5000 - val_val_loss: 10.5954 - val_val_accuracy: 0.5000\n",
      "Epoch 17/30\n",
      "171/171 [==============================] - 82s 482ms/step - loss: 14.9246 - accuracy: 0.9661 - val_loss: 16.6831 - val_accuracy: 0.7053 - val_val_loss: 2.7771 - val_val_accuracy: 0.7053\n",
      "Epoch 18/30\n",
      "171/171 [==============================] - 82s 481ms/step - loss: 13.2602 - accuracy: 0.9754 - val_loss: 16.2988 - val_accuracy: 0.6105 - val_val_loss: 3.8006 - val_val_accuracy: 0.6105\n",
      "Epoch 19/30\n",
      "171/171 [==============================] - 82s 482ms/step - loss: 11.9432 - accuracy: 0.9719 - val_loss: 11.8098 - val_accuracy: 0.8579 - val_val_loss: 0.5103 - val_val_accuracy: 0.8579\n",
      "Epoch 20/30\n",
      "171/171 [==============================] - 80s 471ms/step - loss: 10.6631 - accuracy: 0.9825 - val_loss: 14.5254 - val_accuracy: 0.6368 - val_val_loss: 4.5770 - val_val_accuracy: 0.6368\n",
      "Epoch 21/30\n",
      "171/171 [==============================] - 83s 483ms/step - loss: 9.4908 - accuracy: 0.9883 - val_loss: 12.0358 - val_accuracy: 0.4842 - val_val_loss: 2.9167 - val_val_accuracy: 0.4842\n",
      "Epoch 22/30\n",
      "171/171 [==============================] - 82s 479ms/step - loss: 8.7217 - accuracy: 0.9795 - val_loss: 9.3036 - val_accuracy: 0.7368 - val_val_loss: 1.1451 - val_val_accuracy: 0.7368\n",
      "Epoch 23/30\n",
      "171/171 [==============================] - 83s 485ms/step - loss: 7.6882 - accuracy: 0.9924 - val_loss: 9.6650 - val_accuracy: 0.7158 - val_val_loss: 2.2501 - val_val_accuracy: 0.7158\n",
      "Epoch 24/30\n",
      "171/171 [==============================] - 83s 483ms/step - loss: 7.2926 - accuracy: 0.9678 - val_loss: 8.4214 - val_accuracy: 0.5895 - val_val_loss: 1.4968 - val_val_accuracy: 0.5895\n",
      "Epoch 25/30\n",
      "171/171 [==============================] - 83s 484ms/step - loss: 6.4779 - accuracy: 0.9854 - val_loss: 14.6889 - val_accuracy: 0.5000 - val_val_loss: 8.4777 - val_val_accuracy: 0.5000\n",
      "Epoch 26/30\n",
      "171/171 [==============================] - 81s 477ms/step - loss: 5.8947 - accuracy: 0.9877 - val_loss: 10.2106 - val_accuracy: 0.5053 - val_val_loss: 4.6579 - val_val_accuracy: 0.5053\n",
      "Epoch 27/30\n",
      "171/171 [==============================] - 83s 486ms/step - loss: 5.3391 - accuracy: 0.9901 - val_loss: 5.8005 - val_accuracy: 0.8632 - val_val_loss: 0.8132 - val_val_accuracy: 0.8632\n",
      "Epoch 28/30\n",
      "171/171 [==============================] - 82s 481ms/step - loss: 4.8936 - accuracy: 0.9825 - val_loss: 5.3148 - val_accuracy: 0.6316 - val_val_loss: 0.6372 - val_val_accuracy: 0.6316\n",
      "Epoch 29/30\n",
      "171/171 [==============================] - 82s 482ms/step - loss: 4.5286 - accuracy: 0.9789 - val_loss: 9.1752 - val_accuracy: 0.5737 - val_val_loss: 4.8656 - val_val_accuracy: 0.5737\n",
      "Epoch 30/30\n",
      "171/171 [==============================] - 80s 470ms/step - loss: 4.3152 - accuracy: 0.9725 - val_loss: 8.5430 - val_accuracy: 0.5895 - val_val_loss: 4.4160 - val_val_accuracy: 0.5895\n"
     ]
    },
    {
     "data": {
      "text/plain": [
       "<keras.callbacks.History at 0x7f808c695550>"
      ]
     },
     "execution_count": 12,
     "metadata": {},
     "output_type": "execute_result"
    }
   ],
   "source": [
    "model1.fit(train, validation_data=testing, epochs=30, callbacks=[early_stop])\n"
   ]
  },
  {
   "cell_type": "code",
   "execution_count": 13,
   "metadata": {
    "colab": {
     "base_uri": "https://localhost:8080/"
    },
    "executionInfo": {
     "elapsed": 10732,
     "status": "ok",
     "timestamp": 1682428907030,
     "user": {
      "displayName": "Amal Thomas",
      "userId": "00814438271036740608"
     },
     "user_tz": -330
    },
    "id": "FdtH8Lz5_QSX",
    "outputId": "11db36f0-948c-498a-cd21-d99ef3c7f8a2"
   },
   "outputs": [
    {
     "name": "stdout",
     "output_type": "stream",
     "text": [
      "190/190 [==============================] - 10s 49ms/step\n"
     ]
    }
   ],
   "source": [
    "y_pred=model1.predict(testing)"
   ]
  },
  {
   "cell_type": "code",
   "execution_count": 14,
   "metadata": {
    "colab": {
     "base_uri": "https://localhost:8080/"
    },
    "executionInfo": {
     "elapsed": 636,
     "status": "ok",
     "timestamp": 1682428910003,
     "user": {
      "displayName": "Amal Thomas",
      "userId": "00814438271036740608"
     },
     "user_tz": -330
    },
    "id": "5iKUmT8AACYP",
    "outputId": "5560f221-2b9c-43bf-ae35-25fea28afdf4"
   },
   "outputs": [
    {
     "data": {
      "text/plain": [
       "array([0, 0, 0, 0, 1, 0, 0, 0, 0, 0, 0, 0, 0, 0, 0, 1, 0, 0, 0, 1, 1, 0,\n",
       "       1, 1, 0, 0, 0, 0, 1, 0, 0, 0, 0, 0, 0, 0, 0, 0, 0, 0, 0, 0, 0, 0,\n",
       "       0, 0, 0, 0, 0, 0, 0, 0, 0, 0, 0, 0, 0, 0, 0, 0, 0, 1, 0, 0, 0, 0,\n",
       "       0, 0, 0, 0, 0, 0, 1, 0, 0, 0, 0, 0, 1, 0, 0, 0, 0, 1, 0, 0, 0, 0,\n",
       "       1, 0, 0, 0, 0, 0, 0, 0, 0, 0, 0, 1, 0, 0, 0, 0, 1, 1, 0, 0, 0, 0,\n",
       "       0, 0, 0, 0, 0, 1, 0, 1, 0, 0, 0, 0, 0, 0, 0, 0, 0, 1, 0, 0, 0, 0,\n",
       "       0, 1, 0, 0, 0, 0, 0, 1, 0, 0, 1, 0, 0, 0, 0, 1, 0, 1, 1, 0, 1, 1,\n",
       "       0, 0, 1, 0, 0, 0, 1, 0, 0, 1, 0, 0, 0, 0, 1, 1, 0, 0, 0, 0, 1, 0,\n",
       "       0, 0, 0, 1, 0, 0, 0, 1, 0, 0, 0, 1, 0, 0])"
      ]
     },
     "execution_count": 14,
     "metadata": {},
     "output_type": "execute_result"
    }
   ],
   "source": [
    "y_true = testing.classes\n",
    "\n",
    "from sklearn.metrics import confusion_matrix\n",
    "import numpy as np\n",
    "\n",
    "y_pred=np.argmax(y_pred,axis=1)\n",
    "y_pred"
   ]
  },
  {
   "cell_type": "code",
   "execution_count": 15,
   "metadata": {
    "colab": {
     "base_uri": "https://localhost:8080/"
    },
    "executionInfo": {
     "elapsed": 6,
     "status": "ok",
     "timestamp": 1682428915966,
     "user": {
      "displayName": "Amal Thomas",
      "userId": "00814438271036740608"
     },
     "user_tz": -330
    },
    "id": "T0so1Z4qiKq8",
    "outputId": "4a3d2841-b2ff-40ac-9bea-d4944465507a"
   },
   "outputs": [
    {
     "name": "stdout",
     "output_type": "stream",
     "text": [
      "Accuracy: 0.56\n",
      "Precision: 0.66\n",
      "Recall: 0.24\n"
     ]
    }
   ],
   "source": [
    "cm = confusion_matrix(y_true,y_pred)\n",
    "TP = cm[1, 1]\n",
    "TN = cm[0, 0]\n",
    "FP = cm[0, 1]\n",
    "FN = cm[1, 0]\n",
    "\n",
    "accuracy = (TP + TN) / (TP + TN + FP + FN)\n",
    "precision = TP / (TP + FP)\n",
    "recall = TP / (TP + FN)\n",
    "\n",
    "print(\"Accuracy: {:.2f}\".format(accuracy))\n",
    "print(\"Precision: {:.2f}\".format(precision))\n",
    "print(\"Recall: {:.2f}\".format(recall))"
   ]
  },
  {
   "cell_type": "code",
   "execution_count": 16,
   "metadata": {
    "colab": {
     "base_uri": "https://localhost:8080/",
     "height": 472
    },
    "executionInfo": {
     "elapsed": 691,
     "status": "ok",
     "timestamp": 1682428936542,
     "user": {
      "displayName": "Amal Thomas",
      "userId": "00814438271036740608"
     },
     "user_tz": -330
    },
    "id": "xHRQha-shzDL",
    "outputId": "1c757f1a-b059-4bbf-cf91-a9bfdb61d27c"
   },
   "outputs": [
    {
     "data": {
      "image/png": "[encoded data removed]",
      "text/plain": [
       "<Figure size 640x480 with 1 Axes>"
      ]
     },
     "metadata": {},
     "output_type": "display_data"
    }
   ],
   "source": [
    "from sklearn.metrics import roc_curve, auc\n",
    "import matplotlib.pyplot as plt\n",
    "\n",
    "# assume y_true and y_score are the true labels and predicted probabilities, respectively\n",
    "fpr, tpr, thresholds = roc_curve(y_true, y_pred)\n",
    "roc_auc = auc(fpr, tpr)\n",
    "\n",
    "# plot the ROC curve\n",
    "plt.plot(fpr, tpr, color='darkorange', lw=2, label='ROC curve (AUC = %0.2f)' % roc_auc)\n",
    "plt.plot([0, 1], [0, 1], color='navy', lw=2, linestyle='--')\n",
    "plt.xlabel('False Positive Rate')\n",
    "plt.ylabel('True Positive Rate')\n",
    "plt.title('Receiver Operating Characteristic (ROC) Curve')\n",
    "plt.legend(loc=\"lower right\")\n",
    "plt.show()"
   ]
  }
 ],
 "metadata": {
  "accelerator": "GPU",
  "colab": {
   "gpuType": "T4",
   "provenance": []
  },
  "gpuClass": "standard",
  "kernelspec": {
   "display_name": "Python 3 (ipykernel)",
   "language": "python",
   "name": "python3"
  },
  "language_info": {
   "codemirror_mode": {
    "name": "ipython",
    "version": 3
   },
   "file_extension": ".py",
   "mimetype": "text/x-python",
   "name": "python",
   "nbconvert_exporter": "python",
   "pygments_lexer": "ipython3",
   "version": "3.9.13"
  }
 },
 "nbformat": 4,
 "nbformat_minor": 1
}

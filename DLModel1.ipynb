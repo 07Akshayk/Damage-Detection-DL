{
  "cells": [
    {
      "cell_type": "code",
      "execution_count": null,
      "metadata": {
        "id": "bsOAR1wh7rbW"
      },
      "outputs": [],
      "source": [
        "from tensorflow.keras.models import Model\n",
        "from tensorflow.keras.layers import Input, Conv2D, MaxPooling2D, Flatten, Dense, Concatenate, Activation, BatchNormalization, Add,GlobalMaxPooling2D,Dropout\n",
        "from tensorflow.keras.optimizers import Adam\n",
        "from tensorflow.keras import backend as K\n",
        "from keras.preprocessing.image import ImageDataGenerator\n",
        "from tensorflow.keras import layers, models\n",
        "import tensorflow as tf\n",
        "from keras.regularizers import L2\n",
        "from tensorflow.keras.callbacks import EarlyStopping\n",
        "from tensorflow.keras.applications.mobilenet_v2 import preprocess_input"
      ]
    },
    {
      "cell_type": "code",
      "source": [
        "image=ImageDataGenerator(rescale = 1.0/255.0,validation_split=.1)\n",
        "train=image.flow_from_directory(\"/content/drive/MyDrive/Datasets\",target_size=(224,224),class_mode='sparse',batch_size=10,subset='training',shuffle=True,seed=123)\n",
        "testing=image.flow_from_directory(\"/content/drive/MyDrive/Datasets\",target_size=(224,224),class_mode='sparse',batch_size=1,subset='validation')"
      ],
      "metadata": {
        "colab": {
          "base_uri": "https://localhost:8080/"
        },
        "id": "c-7-gJ3v8Hoc",
        "outputId": "2f554939-997a-452d-9d1d-132a2ca213c8"
      },
      "execution_count": null,
      "outputs": [
        {
          "output_type": "stream",
          "name": "stdout",
          "text": [
            "Found 1711 images belonging to 2 classes.\n",
            "Found 190 images belonging to 2 classes.\n"
          ]
        }
      ]
    },
    {
      "cell_type": "code",
      "source": [
        "train.class_indices"
      ],
      "metadata": {
        "colab": {
          "base_uri": "https://localhost:8080/"
        },
        "id": "RdIXcKy6Lvq2",
        "outputId": "8d4b7b1c-df82-409e-ab81-3c52e90e3bb5"
      },
      "execution_count": null,
      "outputs": [
        {
          "output_type": "execute_result",
          "data": {
            "text/plain": [
              "{'Defective': 0, 'Non_Defective': 1}"
            ]
          },
          "metadata": {},
          "execution_count": 4
        }
      ]
    },
    {
      "cell_type": "code",
      "source": [
        "loss = tf.keras.losses.SparseCategoricalCrossentropy()\n",
        "\n",
        "# Set up validation\n",
        "val_loss = tf.keras.metrics.SparseCategoricalCrossentropy(name='val_loss')\n",
        "val_accuracy = tf.keras.metrics.SparseCategoricalAccuracy(name='val_accuracy')\n"
      ],
      "metadata": {
        "id": "oBc1-Qv7DvLR"
      },
      "execution_count": null,
      "outputs": []
    },
    {
      "cell_type": "code",
      "source": [
        "import numpy as np\n",
        "\n",
        "def relu6(x):\n",
        "    return np.clip(x, 0, 6)\n"
      ],
      "metadata": {
        "id": "BnhR2aSW8UKE"
      },
      "execution_count": null,
      "outputs": []
    },
    {
      "cell_type": "code",
      "source": [
        "#Function for the inverted residual block\n",
        "def inverted_residual_block(inputs, filters, expansion_factor, stride):\n",
        "    channel_axis = 1 if K.image_data_format() == 'channels_first' else -1\n",
        "   \n",
        "    input_num_filters =  K.int_shape(inputs)[channel_axis]\n",
        "    inner_num_filters = input_num_filters * expansion_factor\n",
        "\n",
        "    # Apply pointwise convolution with expansion\n",
        "    x = layers.Conv2D(inner_num_filters, (1, 1), padding='same',kernel_regularizer=L2(0.01), use_bias=False)(inputs)\n",
        "    x = layers.BatchNormalization()(x)\n",
        "    x = layers.Activation('relu6')(x)\n",
        "\n",
        "    # Apply depthwise convolution\n",
        "    x = layers.DepthwiseConv2D(kernel_size=5, strides=stride, padding='same',kernel_regularizer=L2(0.01), use_bias=False)(x)    \n",
        "    x = layers.BatchNormalization()(x)\n",
        "    x = layers.Activation('relu6')(x)\n",
        "\n",
        "    # Apply pointwise convolution to project back to the original number of filters(compressing)\n",
        "    x = layers.Conv2D(filters, (1, 1), padding='same',kernel_regularizer=L2(0.01), use_bias=False)(x)\n",
        "    x = layers.BatchNormalization()(x)\n",
        "\n",
        "    # Apply skip connection for same spatial dimension of tensors(identity skip connction)\n",
        "    if (stride == 1) and (input_num_filters == filters):\n",
        "        x = layers.Add()([x, inputs])\n",
        "        return x\n",
        "    \n",
        "    # Apply skip connection using a 1x1 convolution\n",
        "    # Apply skip connection if the number of filters or resolution changes(convolutional skip connection)\n",
        "    shortcut = Conv2D(filters, kernel_size=1, strides=stride, padding='same')(inputs)\n",
        "    shortcut = BatchNormalization()(shortcut)\n",
        "\n",
        "    return Add()([x, shortcut])"
      ],
      "metadata": {
        "id": "N0JTwRKo8XYL"
      },
      "execution_count": null,
      "outputs": []
    },
    {
      "cell_type": "code",
      "source": [],
      "metadata": {
        "id": "SMXAPZuyYSsq"
      },
      "execution_count": null,
      "outputs": []
    },
    {
      "cell_type": "code",
      "source": [
        "#Base model building\n",
        "def build_cnn_model(input_shape, num_classes):\n",
        "    inputs = Input(shape=input_shape)\n",
        "\n",
        "    # Entry block\n",
        "    x = Conv2D(16, kernel_size=7, strides=2, padding='same')(inputs)\n",
        "    x = BatchNormalization()(x)\n",
        "    x = Activation('relu6')(x)\n",
        "   \n",
        "\n",
        "    \n",
        "    # Inverted residual blocks\n",
        "    x = inverted_residual_block(x, expansion_factor=1, filters=16, stride=(1, 1))\n",
        "\n",
        "    x = inverted_residual_block(x, expansion_factor=6, filters=24, stride=(2, 2))\n",
        "    x = inverted_residual_block(x, expansion_factor=6, filters=24, stride=(1, 1))\n",
        "\n",
        "    x = inverted_residual_block(x, expansion_factor=6, filters=32, stride=(2, 2))\n",
        "    x = inverted_residual_block(x, expansion_factor=6, filters=32, stride=(1, 1))\n",
        "   \n",
        "    x = inverted_residual_block(x, expansion_factor=6, filters=64, stride=(2, 2))\n",
        "    x = inverted_residual_block(x, expansion_factor=6, filters=64, stride=(1, 1))\n",
        "   \n",
        "    x = inverted_residual_block(x, expansion_factor=6, filters=96, stride=(2, 2))\n",
        "    x = inverted_residual_block(x, expansion_factor=6, filters=96, stride=(1, 1))\n",
        "    x = inverted_residual_block(x, expansion_factor=6, filters=96, stride=(1, 1))\n",
        "    x = Dropout(0.1)(x)\n",
        "    x = inverted_residual_block(x, expansion_factor=6, filters=160, stride=(2, 2))\n",
        "    x = inverted_residual_block(x, expansion_factor=6, filters=160, stride=(1, 1))\n",
        "\n",
        "    \n",
        "    # Exit block\n",
        "    x = Conv2D(320, kernel_size=3,padding='same')(x)\n",
        "    x = BatchNormalization()(x)\n",
        "    x = Activation('relu6')(x)\n",
        "    x = GlobalMaxPooling2D()(x)\n",
        "    x = Dropout(0.1)(x)\n",
        "    x = Dense(num_classes, activation='softmax')(x)\n",
        "\n",
        "    model = Model(inputs, x)\n",
        "\n",
        "    return model"
      ],
      "metadata": {
        "id": "yVzFOJ0y9IL2"
      },
      "execution_count": null,
      "outputs": []
    },
    {
      "cell_type": "code",
      "source": [
        "model1=build_cnn_model((224,224,3),2)"
      ],
      "metadata": {
        "id": "vZLFnPZC9lRt"
      },
      "execution_count": null,
      "outputs": []
    },
    {
      "cell_type": "code",
      "source": [
        "early_stop = EarlyStopping(monitor='val_loss', patience=5)"
      ],
      "metadata": {
        "id": "t1v8wvoMEOKk"
      },
      "execution_count": null,
      "outputs": []
    },
    {
      "cell_type": "code",
      "source": [
        "optimizer = Adam(learning_rate=0.0001)\n",
        "model1.compile(optimizer=optimizer, loss='sparse_categorical_crossentropy', metrics=['accuracy', val_loss, val_accuracy])\n"
      ],
      "metadata": {
        "id": "K4vpx94U9vGt"
      },
      "execution_count": null,
      "outputs": []
    },
    {
      "cell_type": "code",
      "source": [
        "model1.summary()"
      ],
      "metadata": {
        "id": "yidfKRx090CX",
        "colab": {
          "base_uri": "https://localhost:8080/"
        },
        "outputId": "a5b56dfe-b302-4e1c-80e3-9b8b6ab732c6"
      },
      "execution_count": null,
      "outputs": [
        {
          "output_type": "stream",
          "name": "stdout",
          "text": [
            "Model: \"model\"\n",
            "__________________________________________________________________________________________________\n",
            " Layer (type)                   Output Shape         Param #     Connected to                     \n",
            "==================================================================================================\n",
            " input_1 (InputLayer)           [(None, 224, 224, 3  0           []                               \n",
            "                                )]                                                                \n",
            "                                                                                                  \n",
            " conv2d (Conv2D)                (None, 112, 112, 16  2368        ['input_1[0][0]']                \n",
            "                                )                                                                 \n",
            "                                                                                                  \n",
            " batch_normalization (BatchNorm  (None, 112, 112, 16  64         ['conv2d[0][0]']                 \n",
            " alization)                     )                                                                 \n",
            "                                                                                                  \n",
            " activation (Activation)        (None, 112, 112, 16  0           ['batch_normalization[0][0]']    \n",
            "                                )                                                                 \n",
            "                                                                                                  \n",
            " conv2d_1 (Conv2D)              (None, 112, 112, 16  256         ['activation[0][0]']             \n",
            "                                )                                                                 \n",
            "                                                                                                  \n",
            " batch_normalization_1 (BatchNo  (None, 112, 112, 16  64         ['conv2d_1[0][0]']               \n",
            " rmalization)                   )                                                                 \n",
            "                                                                                                  \n",
            " activation_1 (Activation)      (None, 112, 112, 16  0           ['batch_normalization_1[0][0]']  \n",
            "                                )                                                                 \n",
            "                                                                                                  \n",
            " depthwise_conv2d (DepthwiseCon  (None, 112, 112, 16  400        ['activation_1[0][0]']           \n",
            " v2D)                           )                                                                 \n",
            "                                                                                                  \n",
            " batch_normalization_2 (BatchNo  (None, 112, 112, 16  64         ['depthwise_conv2d[0][0]']       \n",
            " rmalization)                   )                                                                 \n",
            "                                                                                                  \n",
            " activation_2 (Activation)      (None, 112, 112, 16  0           ['batch_normalization_2[0][0]']  \n",
            "                                )                                                                 \n",
            "                                                                                                  \n",
            " conv2d_2 (Conv2D)              (None, 112, 112, 16  256         ['activation_2[0][0]']           \n",
            "                                )                                                                 \n",
            "                                                                                                  \n",
            " conv2d_3 (Conv2D)              (None, 112, 112, 16  272         ['activation[0][0]']             \n",
            "                                )                                                                 \n",
            "                                                                                                  \n",
            " batch_normalization_3 (BatchNo  (None, 112, 112, 16  64         ['conv2d_2[0][0]']               \n",
            " rmalization)                   )                                                                 \n",
            "                                                                                                  \n",
            " batch_normalization_4 (BatchNo  (None, 112, 112, 16  64         ['conv2d_3[0][0]']               \n",
            " rmalization)                   )                                                                 \n",
            "                                                                                                  \n",
            " add (Add)                      (None, 112, 112, 16  0           ['batch_normalization_3[0][0]',  \n",
            "                                )                                 'batch_normalization_4[0][0]']  \n",
            "                                                                                                  \n",
            " conv2d_4 (Conv2D)              (None, 112, 112, 96  1536        ['add[0][0]']                    \n",
            "                                )                                                                 \n",
            "                                                                                                  \n",
            " batch_normalization_5 (BatchNo  (None, 112, 112, 96  384        ['conv2d_4[0][0]']               \n",
            " rmalization)                   )                                                                 \n",
            "                                                                                                  \n",
            " activation_3 (Activation)      (None, 112, 112, 96  0           ['batch_normalization_5[0][0]']  \n",
            "                                )                                                                 \n",
            "                                                                                                  \n",
            " depthwise_conv2d_1 (DepthwiseC  (None, 56, 56, 96)  2400        ['activation_3[0][0]']           \n",
            " onv2D)                                                                                           \n",
            "                                                                                                  \n",
            " batch_normalization_6 (BatchNo  (None, 56, 56, 96)  384         ['depthwise_conv2d_1[0][0]']     \n",
            " rmalization)                                                                                     \n",
            "                                                                                                  \n",
            " activation_4 (Activation)      (None, 56, 56, 96)   0           ['batch_normalization_6[0][0]']  \n",
            "                                                                                                  \n",
            " conv2d_5 (Conv2D)              (None, 56, 56, 24)   2304        ['activation_4[0][0]']           \n",
            "                                                                                                  \n",
            " conv2d_6 (Conv2D)              (None, 56, 56, 24)   408         ['add[0][0]']                    \n",
            "                                                                                                  \n",
            " batch_normalization_7 (BatchNo  (None, 56, 56, 24)  96          ['conv2d_5[0][0]']               \n",
            " rmalization)                                                                                     \n",
            "                                                                                                  \n",
            " batch_normalization_8 (BatchNo  (None, 56, 56, 24)  96          ['conv2d_6[0][0]']               \n",
            " rmalization)                                                                                     \n",
            "                                                                                                  \n",
            " add_1 (Add)                    (None, 56, 56, 24)   0           ['batch_normalization_7[0][0]',  \n",
            "                                                                  'batch_normalization_8[0][0]']  \n",
            "                                                                                                  \n",
            " conv2d_7 (Conv2D)              (None, 56, 56, 144)  3456        ['add_1[0][0]']                  \n",
            "                                                                                                  \n",
            " batch_normalization_9 (BatchNo  (None, 56, 56, 144)  576        ['conv2d_7[0][0]']               \n",
            " rmalization)                                                                                     \n",
            "                                                                                                  \n",
            " activation_5 (Activation)      (None, 56, 56, 144)  0           ['batch_normalization_9[0][0]']  \n",
            "                                                                                                  \n",
            " depthwise_conv2d_2 (DepthwiseC  (None, 56, 56, 144)  3600       ['activation_5[0][0]']           \n",
            " onv2D)                                                                                           \n",
            "                                                                                                  \n",
            " batch_normalization_10 (BatchN  (None, 56, 56, 144)  576        ['depthwise_conv2d_2[0][0]']     \n",
            " ormalization)                                                                                    \n",
            "                                                                                                  \n",
            " activation_6 (Activation)      (None, 56, 56, 144)  0           ['batch_normalization_10[0][0]'] \n",
            "                                                                                                  \n",
            " conv2d_8 (Conv2D)              (None, 56, 56, 24)   3456        ['activation_6[0][0]']           \n",
            "                                                                                                  \n",
            " conv2d_9 (Conv2D)              (None, 56, 56, 24)   600         ['add_1[0][0]']                  \n",
            "                                                                                                  \n",
            " batch_normalization_11 (BatchN  (None, 56, 56, 24)  96          ['conv2d_8[0][0]']               \n",
            " ormalization)                                                                                    \n",
            "                                                                                                  \n",
            " batch_normalization_12 (BatchN  (None, 56, 56, 24)  96          ['conv2d_9[0][0]']               \n",
            " ormalization)                                                                                    \n",
            "                                                                                                  \n",
            " add_2 (Add)                    (None, 56, 56, 24)   0           ['batch_normalization_11[0][0]', \n",
            "                                                                  'batch_normalization_12[0][0]'] \n",
            "                                                                                                  \n",
            " conv2d_10 (Conv2D)             (None, 56, 56, 144)  3456        ['add_2[0][0]']                  \n",
            "                                                                                                  \n",
            " batch_normalization_13 (BatchN  (None, 56, 56, 144)  576        ['conv2d_10[0][0]']              \n",
            " ormalization)                                                                                    \n",
            "                                                                                                  \n",
            " activation_7 (Activation)      (None, 56, 56, 144)  0           ['batch_normalization_13[0][0]'] \n",
            "                                                                                                  \n",
            " depthwise_conv2d_3 (DepthwiseC  (None, 28, 28, 144)  3600       ['activation_7[0][0]']           \n",
            " onv2D)                                                                                           \n",
            "                                                                                                  \n",
            " batch_normalization_14 (BatchN  (None, 28, 28, 144)  576        ['depthwise_conv2d_3[0][0]']     \n",
            " ormalization)                                                                                    \n",
            "                                                                                                  \n",
            " activation_8 (Activation)      (None, 28, 28, 144)  0           ['batch_normalization_14[0][0]'] \n",
            "                                                                                                  \n",
            " conv2d_11 (Conv2D)             (None, 28, 28, 32)   4608        ['activation_8[0][0]']           \n",
            "                                                                                                  \n",
            " conv2d_12 (Conv2D)             (None, 28, 28, 32)   800         ['add_2[0][0]']                  \n",
            "                                                                                                  \n",
            " batch_normalization_15 (BatchN  (None, 28, 28, 32)  128         ['conv2d_11[0][0]']              \n",
            " ormalization)                                                                                    \n",
            "                                                                                                  \n",
            " batch_normalization_16 (BatchN  (None, 28, 28, 32)  128         ['conv2d_12[0][0]']              \n",
            " ormalization)                                                                                    \n",
            "                                                                                                  \n",
            " add_3 (Add)                    (None, 28, 28, 32)   0           ['batch_normalization_15[0][0]', \n",
            "                                                                  'batch_normalization_16[0][0]'] \n",
            "                                                                                                  \n",
            " conv2d_13 (Conv2D)             (None, 28, 28, 192)  6144        ['add_3[0][0]']                  \n",
            "                                                                                                  \n",
            " batch_normalization_17 (BatchN  (None, 28, 28, 192)  768        ['conv2d_13[0][0]']              \n",
            " ormalization)                                                                                    \n",
            "                                                                                                  \n",
            " activation_9 (Activation)      (None, 28, 28, 192)  0           ['batch_normalization_17[0][0]'] \n",
            "                                                                                                  \n",
            " depthwise_conv2d_4 (DepthwiseC  (None, 28, 28, 192)  4800       ['activation_9[0][0]']           \n",
            " onv2D)                                                                                           \n",
            "                                                                                                  \n",
            " batch_normalization_18 (BatchN  (None, 28, 28, 192)  768        ['depthwise_conv2d_4[0][0]']     \n",
            " ormalization)                                                                                    \n",
            "                                                                                                  \n",
            " activation_10 (Activation)     (None, 28, 28, 192)  0           ['batch_normalization_18[0][0]'] \n",
            "                                                                                                  \n",
            " conv2d_14 (Conv2D)             (None, 28, 28, 32)   6144        ['activation_10[0][0]']          \n",
            "                                                                                                  \n",
            " conv2d_15 (Conv2D)             (None, 28, 28, 32)   1056        ['add_3[0][0]']                  \n",
            "                                                                                                  \n",
            " batch_normalization_19 (BatchN  (None, 28, 28, 32)  128         ['conv2d_14[0][0]']              \n",
            " ormalization)                                                                                    \n",
            "                                                                                                  \n",
            " batch_normalization_20 (BatchN  (None, 28, 28, 32)  128         ['conv2d_15[0][0]']              \n",
            " ormalization)                                                                                    \n",
            "                                                                                                  \n",
            " add_4 (Add)                    (None, 28, 28, 32)   0           ['batch_normalization_19[0][0]', \n",
            "                                                                  'batch_normalization_20[0][0]'] \n",
            "                                                                                                  \n",
            " conv2d_16 (Conv2D)             (None, 28, 28, 192)  6144        ['add_4[0][0]']                  \n",
            "                                                                                                  \n",
            " batch_normalization_21 (BatchN  (None, 28, 28, 192)  768        ['conv2d_16[0][0]']              \n",
            " ormalization)                                                                                    \n",
            "                                                                                                  \n",
            " activation_11 (Activation)     (None, 28, 28, 192)  0           ['batch_normalization_21[0][0]'] \n",
            "                                                                                                  \n",
            " depthwise_conv2d_5 (DepthwiseC  (None, 14, 14, 192)  4800       ['activation_11[0][0]']          \n",
            " onv2D)                                                                                           \n",
            "                                                                                                  \n",
            " batch_normalization_22 (BatchN  (None, 14, 14, 192)  768        ['depthwise_conv2d_5[0][0]']     \n",
            " ormalization)                                                                                    \n",
            "                                                                                                  \n",
            " activation_12 (Activation)     (None, 14, 14, 192)  0           ['batch_normalization_22[0][0]'] \n",
            "                                                                                                  \n",
            " conv2d_17 (Conv2D)             (None, 14, 14, 64)   12288       ['activation_12[0][0]']          \n",
            "                                                                                                  \n",
            " conv2d_18 (Conv2D)             (None, 14, 14, 64)   2112        ['add_4[0][0]']                  \n",
            "                                                                                                  \n",
            " batch_normalization_23 (BatchN  (None, 14, 14, 64)  256         ['conv2d_17[0][0]']              \n",
            " ormalization)                                                                                    \n",
            "                                                                                                  \n",
            " batch_normalization_24 (BatchN  (None, 14, 14, 64)  256         ['conv2d_18[0][0]']              \n",
            " ormalization)                                                                                    \n",
            "                                                                                                  \n",
            " add_5 (Add)                    (None, 14, 14, 64)   0           ['batch_normalization_23[0][0]', \n",
            "                                                                  'batch_normalization_24[0][0]'] \n",
            "                                                                                                  \n",
            " conv2d_19 (Conv2D)             (None, 14, 14, 384)  24576       ['add_5[0][0]']                  \n",
            "                                                                                                  \n",
            " batch_normalization_25 (BatchN  (None, 14, 14, 384)  1536       ['conv2d_19[0][0]']              \n",
            " ormalization)                                                                                    \n",
            "                                                                                                  \n",
            " activation_13 (Activation)     (None, 14, 14, 384)  0           ['batch_normalization_25[0][0]'] \n",
            "                                                                                                  \n",
            " depthwise_conv2d_6 (DepthwiseC  (None, 14, 14, 384)  9600       ['activation_13[0][0]']          \n",
            " onv2D)                                                                                           \n",
            "                                                                                                  \n",
            " batch_normalization_26 (BatchN  (None, 14, 14, 384)  1536       ['depthwise_conv2d_6[0][0]']     \n",
            " ormalization)                                                                                    \n",
            "                                                                                                  \n",
            " activation_14 (Activation)     (None, 14, 14, 384)  0           ['batch_normalization_26[0][0]'] \n",
            "                                                                                                  \n",
            " conv2d_20 (Conv2D)             (None, 14, 14, 64)   24576       ['activation_14[0][0]']          \n",
            "                                                                                                  \n",
            " conv2d_21 (Conv2D)             (None, 14, 14, 64)   4160        ['add_5[0][0]']                  \n",
            "                                                                                                  \n",
            " batch_normalization_27 (BatchN  (None, 14, 14, 64)  256         ['conv2d_20[0][0]']              \n",
            " ormalization)                                                                                    \n",
            "                                                                                                  \n",
            " batch_normalization_28 (BatchN  (None, 14, 14, 64)  256         ['conv2d_21[0][0]']              \n",
            " ormalization)                                                                                    \n",
            "                                                                                                  \n",
            " add_6 (Add)                    (None, 14, 14, 64)   0           ['batch_normalization_27[0][0]', \n",
            "                                                                  'batch_normalization_28[0][0]'] \n",
            "                                                                                                  \n",
            " conv2d_22 (Conv2D)             (None, 14, 14, 384)  24576       ['add_6[0][0]']                  \n",
            "                                                                                                  \n",
            " batch_normalization_29 (BatchN  (None, 14, 14, 384)  1536       ['conv2d_22[0][0]']              \n",
            " ormalization)                                                                                    \n",
            "                                                                                                  \n",
            " activation_15 (Activation)     (None, 14, 14, 384)  0           ['batch_normalization_29[0][0]'] \n",
            "                                                                                                  \n",
            " depthwise_conv2d_7 (DepthwiseC  (None, 7, 7, 384)   9600        ['activation_15[0][0]']          \n",
            " onv2D)                                                                                           \n",
            "                                                                                                  \n",
            " batch_normalization_30 (BatchN  (None, 7, 7, 384)   1536        ['depthwise_conv2d_7[0][0]']     \n",
            " ormalization)                                                                                    \n",
            "                                                                                                  \n",
            " activation_16 (Activation)     (None, 7, 7, 384)    0           ['batch_normalization_30[0][0]'] \n",
            "                                                                                                  \n",
            " conv2d_23 (Conv2D)             (None, 7, 7, 96)     36864       ['activation_16[0][0]']          \n",
            "                                                                                                  \n",
            " conv2d_24 (Conv2D)             (None, 7, 7, 96)     6240        ['add_6[0][0]']                  \n",
            "                                                                                                  \n",
            " batch_normalization_31 (BatchN  (None, 7, 7, 96)    384         ['conv2d_23[0][0]']              \n",
            " ormalization)                                                                                    \n",
            "                                                                                                  \n",
            " batch_normalization_32 (BatchN  (None, 7, 7, 96)    384         ['conv2d_24[0][0]']              \n",
            " ormalization)                                                                                    \n",
            "                                                                                                  \n",
            " add_7 (Add)                    (None, 7, 7, 96)     0           ['batch_normalization_31[0][0]', \n",
            "                                                                  'batch_normalization_32[0][0]'] \n",
            "                                                                                                  \n",
            " conv2d_25 (Conv2D)             (None, 7, 7, 576)    55296       ['add_7[0][0]']                  \n",
            "                                                                                                  \n",
            " batch_normalization_33 (BatchN  (None, 7, 7, 576)   2304        ['conv2d_25[0][0]']              \n",
            " ormalization)                                                                                    \n",
            "                                                                                                  \n",
            " activation_17 (Activation)     (None, 7, 7, 576)    0           ['batch_normalization_33[0][0]'] \n",
            "                                                                                                  \n",
            " depthwise_conv2d_8 (DepthwiseC  (None, 7, 7, 576)   14400       ['activation_17[0][0]']          \n",
            " onv2D)                                                                                           \n",
            "                                                                                                  \n",
            " batch_normalization_34 (BatchN  (None, 7, 7, 576)   2304        ['depthwise_conv2d_8[0][0]']     \n",
            " ormalization)                                                                                    \n",
            "                                                                                                  \n",
            " activation_18 (Activation)     (None, 7, 7, 576)    0           ['batch_normalization_34[0][0]'] \n",
            "                                                                                                  \n",
            " conv2d_26 (Conv2D)             (None, 7, 7, 96)     55296       ['activation_18[0][0]']          \n",
            "                                                                                                  \n",
            " conv2d_27 (Conv2D)             (None, 7, 7, 96)     9312        ['add_7[0][0]']                  \n",
            "                                                                                                  \n",
            " batch_normalization_35 (BatchN  (None, 7, 7, 96)    384         ['conv2d_26[0][0]']              \n",
            " ormalization)                                                                                    \n",
            "                                                                                                  \n",
            " batch_normalization_36 (BatchN  (None, 7, 7, 96)    384         ['conv2d_27[0][0]']              \n",
            " ormalization)                                                                                    \n",
            "                                                                                                  \n",
            " add_8 (Add)                    (None, 7, 7, 96)     0           ['batch_normalization_35[0][0]', \n",
            "                                                                  'batch_normalization_36[0][0]'] \n",
            "                                                                                                  \n",
            " conv2d_28 (Conv2D)             (None, 7, 7, 576)    55296       ['add_8[0][0]']                  \n",
            "                                                                                                  \n",
            " batch_normalization_37 (BatchN  (None, 7, 7, 576)   2304        ['conv2d_28[0][0]']              \n",
            " ormalization)                                                                                    \n",
            "                                                                                                  \n",
            " activation_19 (Activation)     (None, 7, 7, 576)    0           ['batch_normalization_37[0][0]'] \n",
            "                                                                                                  \n",
            " depthwise_conv2d_9 (DepthwiseC  (None, 7, 7, 576)   14400       ['activation_19[0][0]']          \n",
            " onv2D)                                                                                           \n",
            "                                                                                                  \n",
            " batch_normalization_38 (BatchN  (None, 7, 7, 576)   2304        ['depthwise_conv2d_9[0][0]']     \n",
            " ormalization)                                                                                    \n",
            "                                                                                                  \n",
            " activation_20 (Activation)     (None, 7, 7, 576)    0           ['batch_normalization_38[0][0]'] \n",
            "                                                                                                  \n",
            " conv2d_29 (Conv2D)             (None, 7, 7, 96)     55296       ['activation_20[0][0]']          \n",
            "                                                                                                  \n",
            " conv2d_30 (Conv2D)             (None, 7, 7, 96)     9312        ['add_8[0][0]']                  \n",
            "                                                                                                  \n",
            " batch_normalization_39 (BatchN  (None, 7, 7, 96)    384         ['conv2d_29[0][0]']              \n",
            " ormalization)                                                                                    \n",
            "                                                                                                  \n",
            " batch_normalization_40 (BatchN  (None, 7, 7, 96)    384         ['conv2d_30[0][0]']              \n",
            " ormalization)                                                                                    \n",
            "                                                                                                  \n",
            " add_9 (Add)                    (None, 7, 7, 96)     0           ['batch_normalization_39[0][0]', \n",
            "                                                                  'batch_normalization_40[0][0]'] \n",
            "                                                                                                  \n",
            " dropout (Dropout)              (None, 7, 7, 96)     0           ['add_9[0][0]']                  \n",
            "                                                                                                  \n",
            " conv2d_31 (Conv2D)             (None, 7, 7, 576)    55296       ['dropout[0][0]']                \n",
            "                                                                                                  \n",
            " batch_normalization_41 (BatchN  (None, 7, 7, 576)   2304        ['conv2d_31[0][0]']              \n",
            " ormalization)                                                                                    \n",
            "                                                                                                  \n",
            " activation_21 (Activation)     (None, 7, 7, 576)    0           ['batch_normalization_41[0][0]'] \n",
            "                                                                                                  \n",
            " depthwise_conv2d_10 (Depthwise  (None, 4, 4, 576)   14400       ['activation_21[0][0]']          \n",
            " Conv2D)                                                                                          \n",
            "                                                                                                  \n",
            " batch_normalization_42 (BatchN  (None, 4, 4, 576)   2304        ['depthwise_conv2d_10[0][0]']    \n",
            " ormalization)                                                                                    \n",
            "                                                                                                  \n",
            " activation_22 (Activation)     (None, 4, 4, 576)    0           ['batch_normalization_42[0][0]'] \n",
            "                                                                                                  \n",
            " conv2d_32 (Conv2D)             (None, 4, 4, 160)    92160       ['activation_22[0][0]']          \n",
            "                                                                                                  \n",
            " conv2d_33 (Conv2D)             (None, 4, 4, 160)    15520       ['dropout[0][0]']                \n",
            "                                                                                                  \n",
            " batch_normalization_43 (BatchN  (None, 4, 4, 160)   640         ['conv2d_32[0][0]']              \n",
            " ormalization)                                                                                    \n",
            "                                                                                                  \n",
            " batch_normalization_44 (BatchN  (None, 4, 4, 160)   640         ['conv2d_33[0][0]']              \n",
            " ormalization)                                                                                    \n",
            "                                                                                                  \n",
            " add_10 (Add)                   (None, 4, 4, 160)    0           ['batch_normalization_43[0][0]', \n",
            "                                                                  'batch_normalization_44[0][0]'] \n",
            "                                                                                                  \n",
            " conv2d_34 (Conv2D)             (None, 4, 4, 960)    153600      ['add_10[0][0]']                 \n",
            "                                                                                                  \n",
            " batch_normalization_45 (BatchN  (None, 4, 4, 960)   3840        ['conv2d_34[0][0]']              \n",
            " ormalization)                                                                                    \n",
            "                                                                                                  \n",
            " activation_23 (Activation)     (None, 4, 4, 960)    0           ['batch_normalization_45[0][0]'] \n",
            "                                                                                                  \n",
            " depthwise_conv2d_11 (Depthwise  (None, 4, 4, 960)   24000       ['activation_23[0][0]']          \n",
            " Conv2D)                                                                                          \n",
            "                                                                                                  \n",
            " batch_normalization_46 (BatchN  (None, 4, 4, 960)   3840        ['depthwise_conv2d_11[0][0]']    \n",
            " ormalization)                                                                                    \n",
            "                                                                                                  \n",
            " activation_24 (Activation)     (None, 4, 4, 960)    0           ['batch_normalization_46[0][0]'] \n",
            "                                                                                                  \n",
            " conv2d_35 (Conv2D)             (None, 4, 4, 160)    153600      ['activation_24[0][0]']          \n",
            "                                                                                                  \n",
            " conv2d_36 (Conv2D)             (None, 4, 4, 160)    25760       ['add_10[0][0]']                 \n",
            "                                                                                                  \n",
            " batch_normalization_47 (BatchN  (None, 4, 4, 160)   640         ['conv2d_35[0][0]']              \n",
            " ormalization)                                                                                    \n",
            "                                                                                                  \n",
            " batch_normalization_48 (BatchN  (None, 4, 4, 160)   640         ['conv2d_36[0][0]']              \n",
            " ormalization)                                                                                    \n",
            "                                                                                                  \n",
            " add_11 (Add)                   (None, 4, 4, 160)    0           ['batch_normalization_47[0][0]', \n",
            "                                                                  'batch_normalization_48[0][0]'] \n",
            "                                                                                                  \n",
            " conv2d_37 (Conv2D)             (None, 4, 4, 320)    461120      ['add_11[0][0]']                 \n",
            "                                                                                                  \n",
            " batch_normalization_49 (BatchN  (None, 4, 4, 320)   1280        ['conv2d_37[0][0]']              \n",
            " ormalization)                                                                                    \n",
            "                                                                                                  \n",
            " activation_25 (Activation)     (None, 4, 4, 320)    0           ['batch_normalization_49[0][0]'] \n",
            "                                                                                                  \n",
            " global_max_pooling2d (GlobalMa  (None, 320)         0           ['activation_25[0][0]']          \n",
            " xPooling2D)                                                                                      \n",
            "                                                                                                  \n",
            " dropout_1 (Dropout)            (None, 320)          0           ['global_max_pooling2d[0][0]']   \n",
            "                                                                                                  \n",
            " dense (Dense)                  (None, 2)            642         ['dropout_1[0][0]']              \n",
            "                                                                                                  \n",
            "==================================================================================================\n",
            "Total params: 1,524,338\n",
            "Trainable params: 1,503,250\n",
            "Non-trainable params: 21,088\n",
            "__________________________________________________________________________________________________\n"
          ]
        }
      ]
    },
    {
      "cell_type": "code",
      "source": [
        "model1.fit(train, validation_data=testing, epochs=20, callbacks=[early_stop])\n"
      ],
      "metadata": {
        "id": "dTXdotIE-FdD",
        "colab": {
          "base_uri": "https://localhost:8080/"
        },
        "outputId": "4f32dfd0-b99c-4e9c-fa14-b364ff5002d2"
      },
      "execution_count": null,
      "outputs": [
        {
          "output_type": "stream",
          "name": "stdout",
          "text": [
            "Epoch 1/20\n",
            "172/172 [==============================] - 311s 1s/step - loss: 27.1481 - accuracy: 0.5944 - val_loss: 26.5852 - val_accuracy: 0.5000 - val_val_loss: 0.7018 - val_val_accuracy: 0.5000\n",
            "Epoch 2/20\n",
            "172/172 [==============================] - 85s 496ms/step - loss: 26.2238 - accuracy: 0.7195 - val_loss: 26.1925 - val_accuracy: 0.5000 - val_val_loss: 0.8604 - val_val_accuracy: 0.5000\n",
            "Epoch 3/20\n",
            "172/172 [==============================] - 84s 491ms/step - loss: 25.5092 - accuracy: 0.8077 - val_loss: 26.2120 - val_accuracy: 0.5000 - val_val_loss: 1.4602 - val_val_accuracy: 0.5000\n",
            "Epoch 4/20\n",
            "172/172 [==============================] - 87s 508ms/step - loss: 24.7906 - accuracy: 0.8586 - val_loss: 26.6849 - val_accuracy: 0.5053 - val_val_loss: 2.5325 - val_val_accuracy: 0.5053\n",
            "Epoch 5/20\n",
            "172/172 [==============================] - 84s 487ms/step - loss: 24.0783 - accuracy: 0.9141 - val_loss: 36.5091 - val_accuracy: 0.5000 - val_val_loss: 12.9858 - val_val_accuracy: 0.5000\n",
            "Epoch 6/20\n",
            "172/172 [==============================] - 84s 489ms/step - loss: 23.3916 - accuracy: 0.9258 - val_loss: 29.4850 - val_accuracy: 0.5105 - val_val_loss: 6.6097 - val_val_accuracy: 0.5105\n",
            "Epoch 7/20\n",
            "172/172 [==============================] - 83s 482ms/step - loss: 22.7095 - accuracy: 0.9375 - val_loss: 23.6029 - val_accuracy: 0.5895 - val_val_loss: 1.3927 - val_val_accuracy: 0.5895\n",
            "Epoch 8/20\n",
            "172/172 [==============================] - 83s 484ms/step - loss: 22.0245 - accuracy: 0.9456 - val_loss: 23.7016 - val_accuracy: 0.5421 - val_val_loss: 2.1552 - val_val_accuracy: 0.5421\n",
            "Epoch 9/20\n",
            "172/172 [==============================] - 84s 486ms/step - loss: 21.3148 - accuracy: 0.9632 - val_loss: 40.9221 - val_accuracy: 0.5000 - val_val_loss: 20.0540 - val_val_accuracy: 0.5000\n",
            "Epoch 10/20\n",
            "172/172 [==============================] - 83s 482ms/step - loss: 20.6274 - accuracy: 0.9591 - val_loss: 29.7639 - val_accuracy: 0.5000 - val_val_loss: 9.5852 - val_val_accuracy: 0.5000\n",
            "Epoch 11/20\n",
            "172/172 [==============================] - 82s 479ms/step - loss: 19.9012 - accuracy: 0.9772 - val_loss: 23.2201 - val_accuracy: 0.6316 - val_val_loss: 3.7434 - val_val_accuracy: 0.6316\n",
            "Epoch 12/20\n",
            "172/172 [==============================] - 83s 483ms/step - loss: 19.2138 - accuracy: 0.9690 - val_loss: 32.2395 - val_accuracy: 0.5000 - val_val_loss: 13.4647 - val_val_accuracy: 0.5000\n",
            "Epoch 13/20\n",
            "172/172 [==============================] - 83s 481ms/step - loss: 18.5162 - accuracy: 0.9638 - val_loss: 19.6789 - val_accuracy: 0.6263 - val_val_loss: 1.5983 - val_val_accuracy: 0.6263\n",
            "Epoch 14/20\n",
            "172/172 [==============================] - 86s 499ms/step - loss: 17.8582 - accuracy: 0.9573 - val_loss: 31.4914 - val_accuracy: 0.5000 - val_val_loss: 14.0778 - val_val_accuracy: 0.5000\n",
            "Epoch 15/20\n",
            "172/172 [==============================] - 86s 499ms/step - loss: 17.1544 - accuracy: 0.9766 - val_loss: 18.9149 - val_accuracy: 0.6000 - val_val_loss: 2.1542 - val_val_accuracy: 0.6000\n",
            "Epoch 16/20\n",
            "172/172 [==============================] - 84s 487ms/step - loss: 16.5244 - accuracy: 0.9731 - val_loss: 19.1172 - val_accuracy: 0.5474 - val_val_loss: 2.9646 - val_val_accuracy: 0.5474\n",
            "Epoch 17/20\n",
            "172/172 [==============================] - 83s 481ms/step - loss: 15.9897 - accuracy: 0.9573 - val_loss: 33.1837 - val_accuracy: 0.5000 - val_val_loss: 17.6194 - val_val_accuracy: 0.5000\n",
            "Epoch 18/20\n",
            "172/172 [==============================] - 83s 481ms/step - loss: 15.4152 - accuracy: 0.9562 - val_loss: 19.7038 - val_accuracy: 0.5105 - val_val_loss: 4.7027 - val_val_accuracy: 0.5105\n",
            "Epoch 19/20\n",
            "172/172 [==============================] - 82s 480ms/step - loss: 14.8016 - accuracy: 0.9778 - val_loss: 16.8300 - val_accuracy: 0.6789 - val_val_loss: 2.3628 - val_val_accuracy: 0.6789\n",
            "Epoch 20/20\n",
            "172/172 [==============================] - 82s 475ms/step - loss: 14.2521 - accuracy: 0.9842 - val_loss: 15.4004 - val_accuracy: 0.6842 - val_val_loss: 1.4694 - val_val_accuracy: 0.6842\n"
          ]
        },
        {
          "output_type": "execute_result",
          "data": {
            "text/plain": [
              "<keras.callbacks.History at 0x7f673818aa90>"
            ]
          },
          "metadata": {},
          "execution_count": 13
        }
      ]
    },
    {
      "cell_type": "code",
      "source": [
        "y_pred=model1.predict(testing)"
      ],
      "metadata": {
        "id": "FdtH8Lz5_QSX",
        "colab": {
          "base_uri": "https://localhost:8080/"
        },
        "outputId": "daca6b4e-92c2-4571-d724-3af166c8bf1a"
      },
      "execution_count": null,
      "outputs": [
        {
          "output_type": "stream",
          "name": "stdout",
          "text": [
            "190/190 [==============================] - 9s 46ms/step\n"
          ]
        }
      ]
    },
    {
      "cell_type": "code",
      "source": [
        "y_true = testing.classes\n",
        "\n",
        "from sklearn.metrics import confusion_matrix\n",
        "import numpy as np\n",
        "\n",
        "y_pred=np.argmax(y_pred,axis=1)\n",
        "y_pred"
      ],
      "metadata": {
        "id": "5iKUmT8AACYP",
        "colab": {
          "base_uri": "https://localhost:8080/"
        },
        "outputId": "1af80e7e-df65-48e4-ed07-b9ea6975ef64"
      },
      "execution_count": null,
      "outputs": [
        {
          "output_type": "execute_result",
          "data": {
            "text/plain": [
              "array([1, 1, 0, 1, 1, 1, 1, 0, 0, 1, 1, 0, 0, 1, 1, 1, 1, 1, 1, 1, 1, 1,\n",
              "       0, 1, 1, 0, 1, 1, 1, 0, 1, 1, 1, 0, 1, 1, 1, 1, 1, 1, 0, 0, 1, 0,\n",
              "       1, 1, 0, 1, 1, 0, 1, 1, 1, 1, 1, 1, 0, 1, 1, 1, 1, 1, 1, 1, 1, 1,\n",
              "       1, 1, 0, 1, 0, 1, 0, 1, 1, 1, 1, 0, 1, 0, 1, 1, 1, 0, 0, 0, 0, 1,\n",
              "       1, 1, 1, 1, 1, 1, 1, 1, 0, 1, 1, 1, 0, 0, 1, 1, 0, 1, 1, 1, 1, 1,\n",
              "       1, 0, 1, 0, 1, 1, 1, 1, 0, 0, 1, 1, 1, 0, 1, 0, 1, 1, 1, 1, 1, 0,\n",
              "       1, 0, 0, 0, 1, 1, 1, 1, 0, 1, 1, 1, 1, 0, 1, 0, 1, 0, 1, 0, 0, 1,\n",
              "       1, 0, 1, 1, 1, 0, 1, 1, 1, 0, 1, 1, 1, 1, 1, 1, 1, 0, 0, 0, 1, 0,\n",
              "       0, 1, 1, 1, 1, 1, 1, 1, 1, 1, 0, 1, 1, 1])"
            ]
          },
          "metadata": {},
          "execution_count": 15
        }
      ]
    },
    {
      "cell_type": "code",
      "source": [
        "cm = confusion_matrix(y_true,y_pred)\n",
        "TP = cm[1, 1]\n",
        "TN = cm[0, 0]\n",
        "FP = cm[0, 1]\n",
        "FN = cm[1, 0]\n",
        "\n",
        "accuracy = (TP + TN) / (TP + TN + FP + FN)\n",
        "precision = TP / (TP + FP)\n",
        "recall = TP / (TP + FN)\n",
        "\n",
        "print(\"Accuracy: {:.2f}\".format(accuracy))\n",
        "print(\"Precision: {:.2f}\".format(precision))\n",
        "print(\"Recall: {:.2f}\".format(recall))"
      ],
      "metadata": {
        "id": "T0so1Z4qiKq8",
        "colab": {
          "base_uri": "https://localhost:8080/"
        },
        "outputId": "ba4922e6-417e-4575-dbda-d839903ba96b"
      },
      "execution_count": null,
      "outputs": [
        {
          "output_type": "stream",
          "name": "stdout",
          "text": [
            "Accuracy: 0.47\n",
            "Precision: 0.48\n",
            "Recall: 0.69\n"
          ]
        }
      ]
    },
    {
      "cell_type": "code",
      "source": [
        "from sklearn.metrics import roc_curve, auc\n",
        "import matplotlib.pyplot as plt\n",
        "\n",
        "# assume y_true and y_score are the true labels and predicted probabilities, respectively\n",
        "fpr, tpr, thresholds = roc_curve(y_true, y_pred)\n",
        "roc_auc = auc(fpr, tpr)\n",
        "\n",
        "# plot the ROC curve\n",
        "plt.plot(fpr, tpr, color='darkorange', lw=2, label='ROC curve (AUC = %0.2f)' % roc_auc)\n",
        "plt.plot([0, 1], [0, 1], color='navy', lw=2, linestyle='--')\n",
        "plt.xlabel('False Positive Rate')\n",
        "plt.ylabel('True Positive Rate')\n",
        "plt.title('Receiver Operating Characteristic (ROC) Curve')\n",
        "plt.legend(loc=\"lower right\")\n",
        "plt.show()"
      ],
      "metadata": {
        "id": "xHRQha-shzDL",
        "colab": {
          "base_uri": "https://localhost:8080/",
          "height": 472
        },
        "outputId": "a4876751-f11e-4336-ec44-587ff8b6fc65"
      },
      "execution_count": null,
      "outputs": [
        {
          "output_type": "display_data",
          "data": {
            "text/plain": [
              "<Figure size 640x480 with 1 Axes>"
            ],
            "image/png": "[encoded data removed]"
          },
          "metadata": {}
        }
      ]
    },
    {
      "cell_type": "code",
      "source": [
        "import numpy as np\n",
        "\n",
        "# y_pred contains predicted probabilities from the sigmoid function\n",
        "y_pred = np.array(y_pred)\n",
        "\n",
        "# Define the threshold\n",
        "threshold = 0.5\n",
        "\n",
        "# Convert predicted probabilities to integer values\n",
        "y_pred_int = (y_pred > threshold).astype(int)\n",
        "y_pred_int=np.array(y_pred_int)\n",
        "\n",
        "# Print the integer values\n",
        "print(y_pred_int)\n"
      ],
      "metadata": {
        "id": "BWNpT6eJrcPk",
        "colab": {
          "base_uri": "https://localhost:8080/"
        },
        "outputId": "b3613dcf-5e03-4d02-d8e2-93cfa596e7bf"
      },
      "execution_count": null,
      "outputs": [
        {
          "output_type": "stream",
          "name": "stdout",
          "text": [
            "[1 1 0 1 1 1 1 0 0 1 1 0 0 1 1 1 1 1 1 1 1 1 0 1 1 0 1 1 1 0 1 1 1 0 1 1 1\n",
            " 1 1 1 0 0 1 0 1 1 0 1 1 0 1 1 1 1 1 1 0 1 1 1 1 1 1 1 1 1 1 1 0 1 0 1 0 1\n",
            " 1 1 1 0 1 0 1 1 1 0 0 0 0 1 1 1 1 1 1 1 1 1 0 1 1 1 0 0 1 1 0 1 1 1 1 1 1\n",
            " 0 1 0 1 1 1 1 0 0 1 1 1 0 1 0 1 1 1 1 1 0 1 0 0 0 1 1 1 1 0 1 1 1 1 0 1 0\n",
            " 1 0 1 0 0 1 1 0 1 1 1 0 1 1 1 0 1 1 1 1 1 1 1 0 0 0 1 0 0 1 1 1 1 1 1 1 1\n",
            " 1 0 1 1 1]\n"
          ]
        }
      ]
    },
    {
      "cell_type": "code",
      "source": [
        "model1.evaluate(testing)"
      ],
      "metadata": {
        "id": "yXvcyvW2ucLB",
        "colab": {
          "base_uri": "https://localhost:8080/"
        },
        "outputId": "a569dcd2-d657-4fbc-8501-37e7d1a56ebe"
      },
      "execution_count": null,
      "outputs": [
        {
          "output_type": "stream",
          "name": "stdout",
          "text": [
            "190/190 [==============================] - 8s 43ms/step - loss: 15.4004 - accuracy: 0.6842 - val_loss: 1.4694 - val_accuracy: 0.6842\n"
          ]
        },
        {
          "output_type": "execute_result",
          "data": {
            "text/plain": [
              "[15.40036392211914, 0.6842105388641357, 1.469422698020935, 0.6842105388641357]"
            ]
          },
          "metadata": {},
          "execution_count": 19
        }
      ]
    },
    {
      "cell_type": "code",
      "source": [
        "from PIL import Image\n",
        "import numpy as np\n",
        "\n",
        "# Load the image\n",
        "img = Image.open(\"/content/drive/MyDrive/CNNmod1/train/ok_front/cast_ok_0_2098.jpeg\")\n",
        "\n",
        "# Resize the image\n",
        "img = img.resize((224, 224))\n",
        "\n",
        "# Convert the image to a NumPy array\n",
        "img_array = np.array(img)\n",
        "\n",
        "# Preprocess the image (e.g. normalize pixel values)\n",
        "img_array = img_array / 255.0\n",
        "\n",
        "# Add batch dimension to the image array (required for input to many models)\n",
        "img_array = np.expand_dims(img_array, axis=0)\n",
        "\n",
        "# Pass the image to the model for prediction\n",
        "y_pred = model1.predict(img_array)\n",
        "\n",
        "# Convert predicted probabilities to integer values\n",
        "#y_pred_int = (y_pred > 0.5).astype(int)\n",
        "\n",
        "# Print the predicted class label\n",
        "print(y_pred)\n"
      ],
      "metadata": {
        "id": "Vh6m7htawn8o",
        "colab": {
          "base_uri": "https://localhost:8080/",
          "height": 358
        },
        "outputId": "3eefe2f9-4c2d-4ce5-e9d3-a6257b874b00"
      },
      "execution_count": null,
      "outputs": [
        {
          "output_type": "error",
          "ename": "FileNotFoundError",
          "evalue": "ignored",
          "traceback": [
            "\u001b[0;31m---------------------------------------------------------------------------\u001b[0m",
            "\u001b[0;31mFileNotFoundError\u001b[0m                         Traceback (most recent call last)",
            "\u001b[0;32m<ipython-input-20-bfa178dc9652>\u001b[0m in \u001b[0;36m<cell line: 5>\u001b[0;34m()\u001b[0m\n\u001b[1;32m      3\u001b[0m \u001b[0;34m\u001b[0m\u001b[0m\n\u001b[1;32m      4\u001b[0m \u001b[0;31m# Load the image\u001b[0m\u001b[0;34m\u001b[0m\u001b[0;34m\u001b[0m\u001b[0m\n\u001b[0;32m----> 5\u001b[0;31m \u001b[0mimg\u001b[0m \u001b[0;34m=\u001b[0m \u001b[0mImage\u001b[0m\u001b[0;34m.\u001b[0m\u001b[0mopen\u001b[0m\u001b[0;34m(\u001b[0m\u001b[0;34m\"/content/drive/MyDrive/CNNmod1/train/ok_front/cast_ok_0_2098.jpeg\"\u001b[0m\u001b[0;34m)\u001b[0m\u001b[0;34m\u001b[0m\u001b[0;34m\u001b[0m\u001b[0m\n\u001b[0m\u001b[1;32m      6\u001b[0m \u001b[0;34m\u001b[0m\u001b[0m\n\u001b[1;32m      7\u001b[0m \u001b[0;31m# Resize the image\u001b[0m\u001b[0;34m\u001b[0m\u001b[0;34m\u001b[0m\u001b[0m\n",
            "\u001b[0;32m/usr/local/lib/python3.9/dist-packages/PIL/Image.py\u001b[0m in \u001b[0;36mopen\u001b[0;34m(fp, mode, formats)\u001b[0m\n\u001b[1;32m   2973\u001b[0m \u001b[0;34m\u001b[0m\u001b[0m\n\u001b[1;32m   2974\u001b[0m     \u001b[0;32mif\u001b[0m \u001b[0mfilename\u001b[0m\u001b[0;34m:\u001b[0m\u001b[0;34m\u001b[0m\u001b[0;34m\u001b[0m\u001b[0m\n\u001b[0;32m-> 2975\u001b[0;31m         \u001b[0mfp\u001b[0m \u001b[0;34m=\u001b[0m \u001b[0mbuiltins\u001b[0m\u001b[0;34m.\u001b[0m\u001b[0mopen\u001b[0m\u001b[0;34m(\u001b[0m\u001b[0mfilename\u001b[0m\u001b[0;34m,\u001b[0m \u001b[0;34m\"rb\"\u001b[0m\u001b[0;34m)\u001b[0m\u001b[0;34m\u001b[0m\u001b[0;34m\u001b[0m\u001b[0m\n\u001b[0m\u001b[1;32m   2976\u001b[0m         \u001b[0mexclusive_fp\u001b[0m \u001b[0;34m=\u001b[0m \u001b[0;32mTrue\u001b[0m\u001b[0;34m\u001b[0m\u001b[0;34m\u001b[0m\u001b[0m\n\u001b[1;32m   2977\u001b[0m \u001b[0;34m\u001b[0m\u001b[0m\n",
            "\u001b[0;31mFileNotFoundError\u001b[0m: [Errno 2] No such file or directory: '/content/drive/MyDrive/CNNmod1/train/ok_front/cast_ok_0_2098.jpeg'"
          ]
        }
      ]
    },
    {
      "cell_type": "code",
      "source": [
        "y_pred=np.argmax(y_pred,axis=1)\n",
        "y_pred"
      ],
      "metadata": {
        "id": "CKjNwW9oGafJ"
      },
      "execution_count": null,
      "outputs": []
    },
    {
      "cell_type": "code",
      "source": [
        "datagen = ImageDataGenerator(rescale=1./255)\n",
        "\n",
        "# Load the images from the directory\n",
        "predict_data = datagen.flow_from_directory(\n",
        "                                            directory='path/to/directory',\n",
        "                                            target_size=(224, 224),\n",
        "                                            class_mode=None,\n",
        "                                            shuffle=False)"
      ],
      "metadata": {
        "id": "2P5G9-olGXU4"
      },
      "execution_count": null,
      "outputs": []
    }
  ],
  "metadata": {
    "accelerator": "GPU",
    "colab": {
      "provenance": [],
      "gpuType": "T4"
    },
    "gpuClass": "standard",
    "kernelspec": {
      "display_name": "Python 3",
      "name": "python3"
    },
    "language_info": {
      "name": "python"
    }
  },
  "nbformat": 4,
  "nbformat_minor": 0
}